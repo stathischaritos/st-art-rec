{
 "cells": [
  {
   "cell_type": "code",
   "execution_count": 1,
   "metadata": {},
   "outputs": [],
   "source": [
    "import findspark\n",
    "findspark.init()\n",
    "\n",
    "import pyspark\n",
    "from pyspark.sql import SparkSession\n",
    "spark = SparkSession.builder.appName(\"reddit\").getOrCreate()"
   ]
  },
  {
   "cell_type": "code",
   "execution_count": 2,
   "metadata": {},
   "outputs": [],
   "source": [
    "from pyspark.sql.functions import col, udf, lit, concat, lower"
   ]
  },
  {
   "cell_type": "code",
   "execution_count": 3,
   "metadata": {},
   "outputs": [],
   "source": [
    "from pyspark.sql.types import StructType, StructField, StringType, DoubleType, LongType, IntegerType, BooleanType, MapType\n",
    "\n",
    "sub_schema = StructType()\\\n",
    "    .add(\"id\", StringType(), True)\\\n",
    "    .add(\"title\", StringType(), True)\\\n",
    "    .add(\"url\", StringType(), True)\\\n",
    "    .add(\"author\", StringType(), True)\\\n",
    "    .add(\"score\", StringType(), True)\\\n",
    "    .add(\"subreddit\", StringType(), True)\\\n",
    "    .add(\"created_utc\", StringType(), True)\n",
    "\n",
    "\n",
    "com_schema = StructType()\\\n",
    "    .add(\"id\", StringType(), True)\\\n",
    "    .add(\"author\", StringType(), True)\\\n",
    "    .add(\"link_id\", StringType(), True)\\\n",
    "    .add(\"parent_id\", StringType(), True)\\\n",
    "    .add(\"body\", StringType(), True)\\\n",
    "    .add(\"subreddit\", StringType(), True)\\\n",
    "    .add(\"created_utc\", StringType(), True)\\\n",
    "    .add(\"score\", StringType(), True)"
   ]
  },
  {
   "cell_type": "code",
   "execution_count": 4,
   "metadata": {},
   "outputs": [],
   "source": [
    "comments = spark.read.schema(com_schema).json(\"comment.json\")"
   ]
  },
  {
   "cell_type": "code",
   "execution_count": 5,
   "metadata": {},
   "outputs": [
    {
     "data": {
      "text/plain": [
       "4261614"
      ]
     },
     "execution_count": 5,
     "metadata": {},
     "output_type": "execute_result"
    }
   ],
   "source": [
    "comments.count()"
   ]
  },
  {
   "cell_type": "code",
   "execution_count": 6,
   "metadata": {},
   "outputs": [
    {
     "name": "stdout",
     "output_type": "stream",
     "text": [
      "+-------+------------+--------+----------+--------------------+---------+-----------+-----+\n",
      "|     id|      author| link_id| parent_id|                body|subreddit|created_utc|score|\n",
      "+-------+------------+--------+----------+--------------------+---------+-----------+-----+\n",
      "|c03furo|    nerdlife|t3_6a2bf|  t3_6a2bf|Im not going to d...|      Art| 1205457635|    2|\n",
      "|c03grjc|   [deleted]|t3_6cawp|  t3_6cawp|           [deleted]|      Art| 1205757437|    1|\n",
      "|c03h6ll|   [deleted]|t3_6cj6c|  t3_6cj6c|           [deleted]|      Art| 1205862588|    1|\n",
      "|c03h768|   [deleted]|t3_6a2bf|t1_c03furo|          I agree...|      Art| 1205864955|    1|\n",
      "|c03h794|      OMouse|t3_6cjdw|  t3_6cjdw|Post your art som...|      Art| 1205865252|    3|\n",
      "|c03hd6h|dsg123456789|t3_6cjdw|  t3_6cjdw|It would help if ...|      Art| 1205899588|    1|\n",
      "|c03hj50|   [deleted]|t3_6cjdw|t1_c03hd6h|Thanks, I'll do f...|      Art| 1205949552|    1|\n",
      "|c03hj5u|   [deleted]|t3_6cjdw|t1_c03h794|      Working on it.|      Art| 1205949658|    1|\n",
      "|c03hjk7|      OMouse|t3_6cjdw|t1_c03hj5u|You can also chec...|      Art| 1205951840|    1|\n",
      "|c03hjv6|   [deleted]|t3_6cjdw|t1_c03hjk7|I don't really li...|      Art| 1205953455|    2|\n",
      "|c03hjxw|      OMouse|t3_6cjdw|t1_c03hjv6|That is true, but...|      Art| 1205953874|    1|\n",
      "|c03hjzh|      OMouse|t3_6copr|  t3_6copr|What's really nic...|      Art| 1205954100|    1|\n",
      "|c03hkdv|   kickstand|t3_6cosf|  t3_6cosf|I knew a Lucia on...|      Art| 1205956082|    2|\n",
      "|c03hpra|   [deleted]|t3_6cjdw|t1_c03hjxw|Oh yeah, most def...|      Art| 1205994153|    1|\n",
      "|c03ij9g|      OMouse|t3_6d1ql|  t3_6d1ql|We need more subm...|      Art| 1206236946|    2|\n",
      "|c03imvr|   [deleted]|t3_6d30x|  t3_6d30x|**copy, paste all...|      Art| 1206285242|    1|\n",
      "|c03imw0|   [deleted]|t3_6d30x|t1_c03imvr|&gt;&lt;outline t...|      Art| 1206285328|    1|\n",
      "|c03imw5|   [deleted]|t3_6d30x|t1_c03imw0|&gt;&lt;outline t...|      Art| 1206285361|    1|\n",
      "|c03iu7e|    nerdlife|t3_6d1wp|  t3_6d1wp|Yeh, Andy Kehoe r...|      Art| 1206347403|    1|\n",
      "|c03iw7i|      OMouse|t3_6d2xv|  t3_6d2xv|I find this type ...|      Art| 1206370028|    2|\n",
      "+-------+------------+--------+----------+--------------------+---------+-----------+-----+\n",
      "only showing top 20 rows\n",
      "\n"
     ]
    }
   ],
   "source": [
    "comments.show()"
   ]
  },
  {
   "cell_type": "code",
   "execution_count": 7,
   "metadata": {},
   "outputs": [],
   "source": [
    "# df = comments.filter(col(\"author\") != \"[deleted]\")"
   ]
  },
  {
   "cell_type": "code",
   "execution_count": 8,
   "metadata": {},
   "outputs": [],
   "source": [
    "df = comments.filter(col(\"link_id\") == col(\"parent_id\")).cache()"
   ]
  },
  {
   "cell_type": "code",
   "execution_count": 9,
   "metadata": {},
   "outputs": [
    {
     "name": "stdout",
     "output_type": "stream",
     "text": [
      "+-------+------------+--------+---------+--------------------+---------+-----------+-----+\n",
      "|     id|      author| link_id|parent_id|                body|subreddit|created_utc|score|\n",
      "+-------+------------+--------+---------+--------------------+---------+-----------+-----+\n",
      "|c03furo|    nerdlife|t3_6a2bf| t3_6a2bf|Im not going to d...|      Art| 1205457635|    2|\n",
      "|c03grjc|   [deleted]|t3_6cawp| t3_6cawp|           [deleted]|      Art| 1205757437|    1|\n",
      "|c03h6ll|   [deleted]|t3_6cj6c| t3_6cj6c|           [deleted]|      Art| 1205862588|    1|\n",
      "|c03h794|      OMouse|t3_6cjdw| t3_6cjdw|Post your art som...|      Art| 1205865252|    3|\n",
      "|c03hd6h|dsg123456789|t3_6cjdw| t3_6cjdw|It would help if ...|      Art| 1205899588|    1|\n",
      "|c03hjzh|      OMouse|t3_6copr| t3_6copr|What's really nic...|      Art| 1205954100|    1|\n",
      "|c03hkdv|   kickstand|t3_6cosf| t3_6cosf|I knew a Lucia on...|      Art| 1205956082|    2|\n",
      "|c03ij9g|      OMouse|t3_6d1ql| t3_6d1ql|We need more subm...|      Art| 1206236946|    2|\n",
      "|c03imvr|   [deleted]|t3_6d30x| t3_6d30x|**copy, paste all...|      Art| 1206285242|    1|\n",
      "|c03iu7e|    nerdlife|t3_6d1wp| t3_6d1wp|Yeh, Andy Kehoe r...|      Art| 1206347403|    1|\n",
      "|c03iw7i|      OMouse|t3_6d2xv| t3_6d2xv|I find this type ...|      Art| 1206370028|    2|\n",
      "|c03izrd|   [deleted]|t3_6d1wp| t3_6d1wp|This is amazing u...|      Art| 1206388540|    1|\n",
      "|c03izs2|   [deleted]|t3_6d1ql| t3_6d1ql|          I'm on it.|      Art| 1206388624|    1|\n",
      "|c03j9w2|   [deleted]|t3_6dbwk| t3_6dbwk|I think this is b...|      Art| 1206464516|    1|\n",
      "|c03jkuj|   [deleted]|t3_6d2rc| t3_6d2rc|Hell yes. Bookmar...|      Art| 1206538156|    2|\n",
      "|c03jmls|   [deleted]|t3_6dgm1| t3_6dgm1|           [deleted]|      Art| 1206546920|    1|\n",
      "|c03jmlt|   [deleted]|t3_6dgm1| t3_6dgm1|I'm Bud Clay Thom...|      Art| 1206546926|    2|\n",
      "|c03jmqe|   [deleted]|t3_6dgm1| t3_6dgm1|I am a fabric and...|      Art| 1206547459|    2|\n",
      "|c03jmwz|   [deleted]|t3_6dgm1| t3_6dgm1|I'm a self employ...|      Art| 1206548161|    3|\n",
      "|c03jn0q|    moultano|t3_6dgm1| t3_6dgm1|I currently get a...|      Art| 1206548494|    3|\n",
      "+-------+------------+--------+---------+--------------------+---------+-----------+-----+\n",
      "only showing top 20 rows\n",
      "\n"
     ]
    }
   ],
   "source": [
    "df.show()"
   ]
  },
  {
   "cell_type": "code",
   "execution_count": 10,
   "metadata": {},
   "outputs": [
    {
     "data": {
      "text/plain": [
       "2666694"
      ]
     },
     "execution_count": 10,
     "metadata": {},
     "output_type": "execute_result"
    }
   ],
   "source": [
    "df.count()"
   ]
  },
  {
   "cell_type": "code",
   "execution_count": 11,
   "metadata": {},
   "outputs": [],
   "source": [
    "df2 = df.filter(col(\"author\") != \"AutoModerator\").cache()"
   ]
  },
  {
   "cell_type": "code",
   "execution_count": 12,
   "metadata": {},
   "outputs": [],
   "source": [
    "df3 = df2.filter(col(\"author\") != \"art_moderator_bot\").cache() "
   ]
  },
  {
   "cell_type": "code",
   "execution_count": 13,
   "metadata": {},
   "outputs": [],
   "source": [
    "df3 = df3.filter(col(\"body\") != \"[deleted]\")"
   ]
  },
  {
   "cell_type": "code",
   "execution_count": 14,
   "metadata": {},
   "outputs": [
    {
     "data": {
      "text/plain": [
       "2115742"
      ]
     },
     "execution_count": 14,
     "metadata": {},
     "output_type": "execute_result"
    }
   ],
   "source": [
    "df3.count()"
   ]
  },
  {
   "cell_type": "code",
   "execution_count": 19,
   "metadata": {},
   "outputs": [],
   "source": [
    "df3.coalesce(1).write.json(\"comments_clean\")"
   ]
  },
  {
   "cell_type": "code",
   "execution_count": 19,
   "metadata": {},
   "outputs": [
    {
     "name": "stdout",
     "output_type": "stream",
     "text": [
      "+------------------+\n",
      "|        avg(count)|\n",
      "+------------------+\n",
      "|3.1610273695282234|\n",
      "+------------------+\n",
      "\n"
     ]
    }
   ],
   "source": [
    "df3.groupby(\"author\").count().agg({'count': 'avg'}).show()"
   ]
  },
  {
   "cell_type": "code",
   "execution_count": 27,
   "metadata": {},
   "outputs": [
    {
     "name": "stdout",
     "output_type": "stream",
     "text": [
      "Collecting matplotlib\n",
      "  Downloading matplotlib-3.4.2-cp38-cp38-manylinux1_x86_64.whl (10.3 MB)\n",
      "\u001b[K     |████████████████████████████████| 10.3 MB 6.2 MB/s eta 0:00:01\n",
      "\u001b[?25hCollecting kiwisolver>=1.0.1\n",
      "  Downloading kiwisolver-1.3.1-cp38-cp38-manylinux1_x86_64.whl (1.2 MB)\n",
      "\u001b[K     |████████████████████████████████| 1.2 MB 81.3 MB/s eta 0:00:01\n",
      "\u001b[?25hRequirement already satisfied: pyparsing>=2.2.1 in ./.local/lib/python3.8/site-packages (from matplotlib) (2.4.7)\n",
      "Requirement already satisfied: python-dateutil>=2.7 in ./.local/lib/python3.8/site-packages (from matplotlib) (2.8.1)\n",
      "Collecting cycler>=0.10\n",
      "  Downloading cycler-0.10.0-py2.py3-none-any.whl (6.5 kB)\n",
      "Requirement already satisfied: numpy>=1.16 in ./.local/lib/python3.8/site-packages (from matplotlib) (1.19.4)\n",
      "Collecting pillow>=6.2.0\n",
      "  Downloading Pillow-8.3.1-cp38-cp38-manylinux_2_5_x86_64.manylinux1_x86_64.whl (3.0 MB)\n",
      "\u001b[K     |████████████████████████████████| 3.0 MB 28.7 MB/s eta 0:00:01\n",
      "\u001b[?25hRequirement already satisfied: six>=1.5 in /usr/lib/python3/dist-packages (from python-dateutil>=2.7->matplotlib) (1.14.0)\n",
      "Installing collected packages: kiwisolver, cycler, pillow, matplotlib\n",
      "Successfully installed cycler-0.10.0 kiwisolver-1.3.1 matplotlib-3.4.2 pillow-8.3.1\n"
     ]
    }
   ],
   "source": [
    "!pip install matplotlib"
   ]
  },
  {
   "cell_type": "code",
   "execution_count": 31,
   "metadata": {},
   "outputs": [],
   "source": [
    "%matplotlib inline\n",
    "import matplotlib.pyplot as plt\n"
   ]
  },
  {
   "cell_type": "code",
   "execution_count": 52,
   "metadata": {},
   "outputs": [],
   "source": [
    "# Show histogram of the 'C1' column\n",
    "pddf = df3.groupby(\"author\").count().toPandas()\n",
    "\n",
    "# This is a bit awkward but I believe this is the correct way to do it \n",
    "# plt.hist(bins=bins, weights=counts)\n"
   ]
  },
  {
   "cell_type": "code",
   "execution_count": 65,
   "metadata": {},
   "outputs": [
    {
     "data": {
      "text/plain": [
       "1338642"
      ]
     },
     "execution_count": 65,
     "metadata": {},
     "output_type": "execute_result"
    }
   ],
   "source": [
    "pddf.size"
   ]
  },
  {
   "cell_type": "code",
   "execution_count": 76,
   "metadata": {},
   "outputs": [
    {
     "data": {
      "image/png": "[encoded data removed]",
      "text/plain": [
       "<Figure size 432x288 with 1 Axes>"
      ]
     },
     "metadata": {
      "needs_background": "light"
     },
     "output_type": "display_data"
    }
   ],
   "source": [
    "axarr = pddf.hist(range=[1, 10], )\n",
    "\n",
    "for ax in axarr.flatten():\n",
    "    ax.set_title(\"User Comments Histogram\")\n",
    "    ax.set_xlabel(\"Total Comments\")\n",
    "    ax.set_ylabel(\"Users\")"
   ]
  },
  {
   "cell_type": "code",
   "execution_count": 35,
   "metadata": {},
   "outputs": [
    {
     "name": "stdout",
     "output_type": "stream",
     "text": [
      "+-----+\n",
      "|count|\n",
      "+-----+\n",
      "|   22|\n",
      "|    2|\n",
      "|   15|\n",
      "|   12|\n",
      "|    6|\n",
      "|    1|\n",
      "|    1|\n",
      "|    2|\n",
      "|    2|\n",
      "|    1|\n",
      "|    5|\n",
      "|    6|\n",
      "|    9|\n",
      "|    1|\n",
      "|    3|\n",
      "|    1|\n",
      "|    1|\n",
      "|    3|\n",
      "|    4|\n",
      "|    8|\n",
      "+-----+\n",
      "only showing top 20 rows\n",
      "\n"
     ]
    }
   ],
   "source": [
    "df3.groupby(\"author\").count().select('count').show()"
   ]
  },
  {
   "cell_type": "code",
   "execution_count": 21,
   "metadata": {},
   "outputs": [
    {
     "name": "stdout",
     "output_type": "stream",
     "text": [
      "+-----------------+\n",
      "|    stddev(count)|\n",
      "+-----------------+\n",
      "|745.5366351271192|\n",
      "+-----------------+\n",
      "\n"
     ]
    }
   ],
   "source": [
    "df3.groupby(\"author\").count().agg({'count': 'stddev'}).show()"
   ]
  },
  {
   "cell_type": "code",
   "execution_count": 22,
   "metadata": {},
   "outputs": [
    {
     "name": "stdout",
     "output_type": "stream",
     "text": [
      "+-----------------+\n",
      "|    stddev(count)|\n",
      "+-----------------+\n",
      "|19.80788826774562|\n",
      "+-----------------+\n",
      "\n"
     ]
    }
   ],
   "source": [
    "df3.groupby(\"link_id\").count().agg({'count': 'stddev'}).show()"
   ]
  },
  {
   "cell_type": "code",
   "execution_count": 23,
   "metadata": {},
   "outputs": [
    {
     "name": "stdout",
     "output_type": "stream",
     "text": [
      "+-----------------+\n",
      "|       avg(count)|\n",
      "+-----------------+\n",
      "|4.671801269666022|\n",
      "+-----------------+\n",
      "\n"
     ]
    }
   ],
   "source": [
    "df3.groupby(\"link_id\").count().agg({'count': 'avg'}).show()"
   ]
  },
  {
   "cell_type": "code",
   "execution_count": 77,
   "metadata": {},
   "outputs": [],
   "source": [
    "pddf = df3.groupby(\"link_id\").count().toPandas()"
   ]
  },
  {
   "cell_type": "code",
   "execution_count": 78,
   "metadata": {},
   "outputs": [
    {
     "data": {
      "image/png": "[encoded data removed]",
      "text/plain": [
       "<Figure size 432x288 with 1 Axes>"
      ]
     },
     "metadata": {
      "needs_background": "light"
     },
     "output_type": "display_data"
    }
   ],
   "source": [
    "axarr = pddf.hist(range=[1, 10], )\n",
    "\n",
    "for ax in axarr.flatten():\n",
    "    ax.set_title(\"Item Comments Histogram\")\n",
    "    ax.set_xlabel(\"Total Comments\")\n",
    "    ax.set_ylabel(\"Items\")"
   ]
  },
  {
   "cell_type": "code",
   "execution_count": null,
   "metadata": {},
   "outputs": [],
   "source": [
    ".agg({'count': 'mean'}).show()"
   ]
  },
  {
   "cell_type": "code",
   "execution_count": null,
   "metadata": {},
   "outputs": [],
   "source": [
    "df3.groupby(\"author\").count().agg({'count': 'mean', 'count': 'stddev'}).show()"
   ]
  },
  {
   "cell_type": "code",
   "execution_count": 18,
   "metadata": {},
   "outputs": [
    {
     "name": "stdout",
     "output_type": "stream",
     "text": [
      "+--------------------+-----+\n",
      "|              author|count|\n",
      "+--------------------+-----+\n",
      "|        VerditerBlue|12928|\n",
      "|         neodiogenes|10138|\n",
      "| flair_your_post_bot| 5428|\n",
      "|                w0ut| 3853|\n",
      "|          ethan_kahn| 3549|\n",
      "|   Deviantart-Mirror| 2985|\n",
      "|               O-shi| 2940|\n",
      "|   Respectfullyyours| 2010|\n",
      "|         pHorniCaiTe| 1390|\n",
      "|            magelanz| 1373|\n",
      "|            powderdd| 1280|\n",
      "|AnthropomorphizedHat| 1270|\n",
      "|           beezabubs| 1051|\n",
      "|    awkwardtheturtle|  972|\n",
      "|  ToastWithTangerine|  941|\n",
      "|              MrFack|  881|\n",
      "|        Noimnotsally|  752|\n",
      "|            kenJisoo|  707|\n",
      "|        MusaibWadkar|  700|\n",
      "|         IndexObject|  698|\n",
      "+--------------------+-----+\n",
      "only showing top 20 rows\n",
      "\n"
     ]
    }
   ],
   "source": [
    "df3.groupby(\"author\").count().sort(\"count\", ascending=False).show()"
   ]
  },
  {
   "cell_type": "code",
   "execution_count": 102,
   "metadata": {},
   "outputs": [],
   "source": [
    "tags = [\n",
    "    'agreeableness',\n",
    "    'anger',\n",
    "    'anticipation',\n",
    "    'arrogance',\n",
    "    'disagreeableness',\n",
    "    'disgust',\n",
    "    'fear',\n",
    "    'gratitude',\n",
    "    'happiness',\n",
    "    'humility',\n",
    "    'love',\n",
    "    'optimism',\n",
    "    'pessimism',\n",
    "    'regret',\n",
    "    'sadness',\n",
    "    'shame',\n",
    "    'shyness',\n",
    "    'surprise',\n",
    "    'trust',\n",
    "    'neutral',\n",
    "    \n",
    "    'happy',\n",
    "    'sad',\n",
    "    'lonely',\n",
    "    'weird',\n",
    "    'angry',\n",
    "    'scary',\n",
    "    'gloomy',\n",
    "    'peaceful'\n",
    "]"
   ]
  },
  {
   "cell_type": "code",
   "execution_count": 103,
   "metadata": {},
   "outputs": [],
   "source": [
    "from pyspark.sql.types import StringType, ArrayType\n",
    "\n",
    "def find_tags(text, tags):\n",
    "    if text:\n",
    "        return [t for t in tags if t in text]\n",
    "    else:\n",
    "        return []\n",
    "    \n",
    "find_tags_udf = udf(lambda z: find_tags(z, tags), ArrayType(StringType()))"
   ]
  },
  {
   "cell_type": "code",
   "execution_count": 104,
   "metadata": {},
   "outputs": [],
   "source": [
    "df4 = df3.withColumn(\"body\", lower(\"body\")).withColumn(\"tags\", find_tags_udf(\"body\")).cache()"
   ]
  },
  {
   "cell_type": "code",
   "execution_count": 105,
   "metadata": {},
   "outputs": [
    {
     "name": "stdout",
     "output_type": "stream",
     "text": [
      "+-------+-------------+--------+---------+--------------------+---------+-----------+-----+-------+\n",
      "|     id|       author| link_id|parent_id|                body|subreddit|created_utc|score|   tags|\n",
      "+-------+-------------+--------+---------+--------------------+---------+-----------+-----+-------+\n",
      "|c03furo|     nerdlife|t3_6a2bf| t3_6a2bf|im not going to d...|      Art| 1205457635|    2|     []|\n",
      "|c03h794|       OMouse|t3_6cjdw| t3_6cjdw|post your art som...|      Art| 1205865252|    3|     []|\n",
      "|c03hd6h| dsg123456789|t3_6cjdw| t3_6cjdw|it would help if ...|      Art| 1205899588|    1|     []|\n",
      "|c03hjzh|       OMouse|t3_6copr| t3_6copr|what's really nic...|      Art| 1205954100|    1|     []|\n",
      "|c03hkdv|    kickstand|t3_6cosf| t3_6cosf|i knew a lucia on...|      Art| 1205956082|    2|     []|\n",
      "|c03ij9g|       OMouse|t3_6d1ql| t3_6d1ql|we need more subm...|      Art| 1206236946|    2|     []|\n",
      "|c03iu7e|     nerdlife|t3_6d1wp| t3_6d1wp|yeh, andy kehoe r...|      Art| 1206347403|    1| [love]|\n",
      "|c03iw7i|       OMouse|t3_6d2xv| t3_6d2xv|i find this type ...|      Art| 1206370028|    2|     []|\n",
      "|c03jn0q|     moultano|t3_6dgm1| t3_6dgm1|i currently get a...|      Art| 1206548494|    3|     []|\n",
      "|c03jn3v| nightbiscuit|t3_6dgm1| t3_6dgm1|some of my painti...|      Art| 1206548856|    7|[trust]|\n",
      "|c03jnaa|      DTanner|t3_6dgm1| t3_6dgm1|i wouldn't really...|      Art| 1206549491|    2|     []|\n",
      "|c03jnab|        qgyh2|t3_6dgm1| t3_6dgm1|i make miniature ...|      Art| 1206549495|    0|     []|\n",
      "|c03jnkn|    pablogott|t3_6dgm1| t3_6dgm1|http://www.virb.c...|      Art| 1206550715|    8|     []|\n",
      "|c03jnxv|      thezeke|t3_6dgm1| t3_6dgm1|i'm an animation ...|      Art| 1206552335|    2|     []|\n",
      "|c03jo21|     RICKARD5|t3_6dgm1| t3_6dgm1|i'm no artist, i ...|      Art| 1206552802|    2|     []|\n",
      "|c03jo2d|charlestheoaf|t3_6dgm1| t3_6dgm1|i've always drawn...|      Art| 1206552838|    3|     []|\n",
      "|c03joac|    wonderhat|t3_6dgm1| t3_6dgm1|sophomore in high...|      Art| 1206553761|    6|     []|\n",
      "|c03jozo|       Smched|t3_6dgm1| t3_6dgm1|i'm not working o...|      Art| 1206556702|    2|     []|\n",
      "|c03jp27|piratepanties|t3_6dgm1| t3_6dgm1|currently on a ma...|      Art| 1206556987|    3| [love]|\n",
      "|c03jp65|       fedira|t3_6dgm1| t3_6dgm1|this is the frien...|      Art| 1206557464|   10|     []|\n",
      "+-------+-------------+--------+---------+--------------------+---------+-----------+-----+-------+\n",
      "only showing top 20 rows\n",
      "\n"
     ]
    }
   ],
   "source": [
    "df4.show()"
   ]
  },
  {
   "cell_type": "code",
   "execution_count": 106,
   "metadata": {},
   "outputs": [],
   "source": [
    "from pyspark.sql.functions import length, size"
   ]
  },
  {
   "cell_type": "code",
   "execution_count": 107,
   "metadata": {},
   "outputs": [],
   "source": [
    "df5 = df4.filter(size(col(\"tags\")) > 0).cache()"
   ]
  },
  {
   "cell_type": "code",
   "execution_count": 108,
   "metadata": {},
   "outputs": [
    {
     "data": {
      "text/plain": [
       "196236"
      ]
     },
     "execution_count": 108,
     "metadata": {},
     "output_type": "execute_result"
    }
   ],
   "source": [
    "df5.count()"
   ]
  },
  {
   "cell_type": "code",
   "execution_count": 109,
   "metadata": {},
   "outputs": [],
   "source": [
    "from pyspark.sql.functions import explode\n",
    "df6 = df5.withColumn(\"tag\", explode(\"tags\")).cache()"
   ]
  },
  {
   "cell_type": "code",
   "execution_count": 110,
   "metadata": {},
   "outputs": [
    {
     "name": "stdout",
     "output_type": "stream",
     "text": [
      "+-------+------------------+--------+---------+--------------------+---------+-----------+-----+---------+-------+\n",
      "|     id|            author| link_id|parent_id|                body|subreddit|created_utc|score|     tags|    tag|\n",
      "+-------+------------------+--------+---------+--------------------+---------+-----------+-----+---------+-------+\n",
      "|c03iu7e|          nerdlife|t3_6d1wp| t3_6d1wp|yeh, andy kehoe r...|      Art| 1206347403|    1|   [love]|   love|\n",
      "|c03jn3v|      nightbiscuit|t3_6dgm1| t3_6dgm1|some of my painti...|      Art| 1206548856|    7|  [trust]|  trust|\n",
      "|c03jp27|     piratepanties|t3_6dgm1| t3_6dgm1|currently on a ma...|      Art| 1206556987|    3|   [love]|   love|\n",
      "|c03jqwz|            xxeyes|t3_6dgm1| t3_6dgm1|i'm not really an...|      Art| 1206564170|    3|   [love]|   love|\n",
      "|c03jvw5|     InstantIndian|t3_6dgm1| t3_6dgm1|i am so happy the...|      Art| 1206594046|    4|  [happy]|  happy|\n",
      "|c03kjf4|lazed_and_confused|t3_6drbl| t3_6drbl|i love how hippie...|      Art| 1206748570|    3|   [love]|   love|\n",
      "|c03vawp|            joshgi|t3_6hl7e| t3_6hl7e|i saw strange cul...|      Art| 1209572685|    2|[disgust]|disgust|\n",
      "|c040jwi|           fingers|t3_6jfgk| t3_6jfgk|it appears that o...|      Art| 1210813354|    2|   [love]|   love|\n",
      "|c042kd7|          bart2019|t3_6k0au| t3_6k0au|this is absolutel...|      Art| 1211281603|    3|   [love]|   love|\n",
      "|c045ntv|          linkgirl|t3_6l4no| t3_6l4no|from the exhibit:...|      Art| 1211995857|    1|   [love]|   love|\n",
      "|c046he1|            ardenr|t3_6lcuk| t3_6lcuk|&gt;bought anonym...|      Art| 1212159154|    7|  [angry]|  angry|\n",
      "|c04d4fy|          codepoet|t3_6nemu| t3_6nemu|i saw this on ope...|      Art| 1213567119|    2|   [love]|   love|\n",
      "|c04d6b2|       OpticsFiber|t3_6nh61| t3_6nh61|disclaimer: gore ...|      Art| 1213579342|   12|   [love]|   love|\n",
      "|c04dcc3|   JonathanHarford|t3_6nhjr| t3_6nhjr|i love artrage. t...|      Art| 1213626483|    3|   [love]|   love|\n",
      "|c04dm9q|         Bobsickle|t3_6nmbc| t3_6nmbc|i'd love to take ...|      Art| 1213668476|    1|   [love]|   love|\n",
      "|c04f0m4|              DOGA|t3_6o4xk| t3_6o4xk|i think i'm in lo...|      Art| 1213946091|    1|   [love]|   love|\n",
      "|c04f1lm|  quit_complaining|t3_6o49n| t3_6o49n|cool stuff, and i...|      Art| 1213953975|    0|   [love]|   love|\n",
      "|c04g290|             timin|t3_6oic1| t3_6oic1|shameless self pr...|      Art| 1214192105|    1|  [shame]|  shame|\n",
      "|c04otc2|        krugerlive|t3_6robm| t3_6robm|&gt;the secrecy o...|      Art| 1216048650|   16|   [love]|   love|\n",
      "|c04qees|           StoneMe|t3_6sak7| t3_6sak7|what a shame the ...|      Art| 1216339814|    1|  [shame]|  shame|\n",
      "+-------+------------------+--------+---------+--------------------+---------+-----------+-----+---------+-------+\n",
      "only showing top 20 rows\n",
      "\n"
     ]
    }
   ],
   "source": [
    "df6.show()"
   ]
  },
  {
   "cell_type": "code",
   "execution_count": 111,
   "metadata": {},
   "outputs": [
    {
     "name": "stdout",
     "output_type": "stream",
     "text": [
      "+------------+------+\n",
      "|         tag| count|\n",
      "+------------+------+\n",
      "|        love|161809|\n",
      "|       happy|  8996|\n",
      "|       weird|  7247|\n",
      "|         sad|  7040|\n",
      "|       anger|  2846|\n",
      "|    surprise|  2331|\n",
      "|        fear|  1939|\n",
      "|       scary|  1904|\n",
      "|       shame|  1844|\n",
      "|    peaceful|  1571|\n",
      "|       trust|  1029|\n",
      "|       angry|  1009|\n",
      "|     disgust|   943|\n",
      "|      lonely|   686|\n",
      "|     sadness|   635|\n",
      "|      regret|   602|\n",
      "|   happiness|   559|\n",
      "|     neutral|   363|\n",
      "|      gloomy|   128|\n",
      "|anticipation|    82|\n",
      "+------------+------+\n",
      "only showing top 20 rows\n",
      "\n"
     ]
    }
   ],
   "source": [
    "df6.groupby(\"tag\").count().sort(\"count\", ascending=False).show()"
   ]
  },
  {
   "cell_type": "code",
   "execution_count": 112,
   "metadata": {},
   "outputs": [],
   "source": [
    "from pyspark.sql.functions import  collect_list"
   ]
  },
  {
   "cell_type": "code",
   "execution_count": 113,
   "metadata": {},
   "outputs": [],
   "source": [
    "df7 = df6.groupby(\"link_id\").agg(collect_list(\"tag\")).withColumn(\"n_tags\", size(col(\"collect_list(tag)\")))"
   ]
  },
  {
   "cell_type": "code",
   "execution_count": 114,
   "metadata": {},
   "outputs": [
    {
     "name": "stdout",
     "output_type": "stream",
     "text": [
      "+---------+--------------------+------+\n",
      "|  link_id|   collect_list(tag)|n_tags|\n",
      "+---------+--------------------+------+\n",
      "|t3_39fthj|[love, love, love...|   167|\n",
      "|t3_cmw9ek|[love, love, weir...|   143|\n",
      "|t3_6393x4|[love, shame, lov...|   118|\n",
      "|t3_gjjcap|[love, love, love...|   116|\n",
      "|t3_gqd2p0|[love, love, love...|   110|\n",
      "|t3_auq433|[love, love, love...|   108|\n",
      "|t3_d0ezsm|[love, love, peac...|   103|\n",
      "|t3_3cagpf|[happy, love, lov...|   102|\n",
      "|t3_df0qid|[love, love, love...|    99|\n",
      "|t3_dr8uaq|[love, love, love...|    90|\n",
      "|t3_bjkaht|[fear, weird, lov...|    88|\n",
      "|t3_azgs1n|[peaceful, love, ...|    86|\n",
      "|t3_38u5f9|[happiness, happy...|    83|\n",
      "|t3_do8kl4|[love, sad, love,...|    82|\n",
      "|t3_jg9r4c|[love, love, love...|    81|\n",
      "|t3_7pplrd|[peaceful, happin...|    79|\n",
      "|t3_7s54bw|[trust, surprise,...|    77|\n",
      "|t3_j5sdu9|[love, happy, lov...|    77|\n",
      "|t3_4bcnql|[love, love, angr...|    75|\n",
      "|t3_k16bzk|[love, love, happ...|    75|\n",
      "+---------+--------------------+------+\n",
      "only showing top 20 rows\n",
      "\n"
     ]
    }
   ],
   "source": [
    "df7.sort(\"n_tags\", ascending=False).show()"
   ]
  },
  {
   "cell_type": "code",
   "execution_count": 115,
   "metadata": {},
   "outputs": [],
   "source": [
    "from collections import Counter\n",
    "\n",
    "def count_tags(tags):\n",
    "    return dict(Counter(tags))\n",
    "    \n",
    "count_tags_udf = udf(lambda z: count_tags(z), MapType(StringType(), IntegerType()))"
   ]
  },
  {
   "cell_type": "code",
   "execution_count": 116,
   "metadata": {},
   "outputs": [],
   "source": [
    "df8 = df7.withColumn(\"tag_counts\", count_tags_udf(col(\"collect_list(tag)\")))"
   ]
  },
  {
   "cell_type": "code",
   "execution_count": 117,
   "metadata": {},
   "outputs": [
    {
     "name": "stdout",
     "output_type": "stream",
     "text": [
      "+---------+--------------------+------+--------------------+\n",
      "|  link_id|   collect_list(tag)|n_tags|          tag_counts|\n",
      "+---------+--------------------+------+--------------------+\n",
      "|t3_39fthj|[love, love, love...|   167|[trust -> 1, love...|\n",
      "|t3_cmw9ek|[love, love, weir...|   143|[love -> 126, sur...|\n",
      "|t3_6393x4|[love, shame, lov...|   118|[trust -> 1, love...|\n",
      "|t3_gjjcap|[love, love, love...|   116|[love -> 99, surp...|\n",
      "|t3_gqd2p0|[love, love, love...|   110|[love -> 100, sur...|\n",
      "|t3_auq433|[love, love, love...|   108|[love -> 89, surp...|\n",
      "|t3_d0ezsm|[love, love, peac...|   103|[love -> 85, weir...|\n",
      "|t3_3cagpf|[happy, love, lov...|   102|[love -> 68, weir...|\n",
      "|t3_df0qid|[love, love, love...|    99|[love -> 93, happ...|\n",
      "|t3_dr8uaq|[love, love, love...|    90|[love -> 76, weir...|\n",
      "|t3_bjkaht|[fear, weird, lov...|    88|[trust -> 1, love...|\n",
      "|t3_azgs1n|[peaceful, love, ...|    86|[love -> 63, weir...|\n",
      "|t3_38u5f9|[happiness, happy...|    83|[trust -> 1, love...|\n",
      "|t3_do8kl4|[love, sad, love,...|    82|[trust -> 1, love...|\n",
      "|t3_jg9r4c|[love, love, love...|    81|[love -> 70, weir...|\n",
      "|t3_7pplrd|[peaceful, happin...|    79|[love -> 39, weir...|\n",
      "|t3_j5sdu9|[love, happy, lov...|    77|[love -> 51, happ...|\n",
      "|t3_7s54bw|[trust, surprise,...|    77|[love -> 39, trus...|\n",
      "|t3_k16bzk|[love, love, happ...|    75|[love -> 61, weir...|\n",
      "|t3_4bcnql|[love, love, angr...|    75|[love -> 69, angr...|\n",
      "+---------+--------------------+------+--------------------+\n",
      "only showing top 20 rows\n",
      "\n"
     ]
    }
   ],
   "source": [
    "df8.sort(\"n_tags\", ascending=False).show()"
   ]
  },
  {
   "cell_type": "code",
   "execution_count": 24,
   "metadata": {},
   "outputs": [],
   "source": [
    "submissions = spark.read.schema(sub_schema).json(\"submission.json\")"
   ]
  },
  {
   "cell_type": "code",
   "execution_count": 25,
   "metadata": {},
   "outputs": [
    {
     "data": {
      "text/plain": [
       "1466539"
      ]
     },
     "execution_count": 25,
     "metadata": {},
     "output_type": "execute_result"
    }
   ],
   "source": [
    "submissions.count()"
   ]
  },
  {
   "cell_type": "code",
   "execution_count": 68,
   "metadata": {},
   "outputs": [
    {
     "name": "stdout",
     "output_type": "stream",
     "text": [
      "+------------------+\n",
      "|     stddev(count)|\n",
      "+------------------+\n",
      "|252.50164876831025|\n",
      "+------------------+\n",
      "\n"
     ]
    }
   ],
   "source": [
    "submissions.groupby(\"author\").count().agg({'count': 'stddev'}).show()"
   ]
  },
  {
   "cell_type": "code",
   "execution_count": 42,
   "metadata": {},
   "outputs": [],
   "source": [
    "submissions = submissions.withColumn(\"t3_id\", concat(lit(\"t3_\"), col(\"id\")))"
   ]
  },
  {
   "cell_type": "code",
   "execution_count": 33,
   "metadata": {},
   "outputs": [
    {
     "name": "stdout",
     "output_type": "stream",
     "text": [
      "+-----+--------------------+--------------------+-------------+-----+---------+-----------+--------+\n",
      "|   id|               title|                 url|       author|score|subreddit|created_utc|   t3_id|\n",
      "+-----+--------------------+--------------------+-------------+-----+---------+-----------+--------+\n",
      "|66nud|Very funky Art si...|http://www.artswh...|  Thumperings|    7|      Art| 1201321706|t3_66nud|\n",
      "|66u0g|Inka Essenhigh - ...|http://www.inka-e...|    [deleted]|    3|      Art| 1201507917|t3_66u0g|\n",
      "|66udm|Adi Granov is bet...|http://www.adigra...|    [deleted]|    1|      Art| 1201518531|t3_66udm|\n",
      "|66xjq|Illustration :: I...|http://www.illust...|    [deleted]|    3|      Art| 1201574128|t3_66xjq|\n",
      "|682ke|      Erotic Massage|http://www.pics-n...|      picmium|    0|      Art| 1202464784|t3_682ke|\n",
      "|68lf0|Universal DRM war...|http://files.myop...|    demonstro|    0|      Art| 1202901064|t3_68lf0|\n",
      "|699mw|Online Picasso Pr...|http://picasso.cs...| hulahulagirl|    1|      Art| 1203444455|t3_699mw|\n",
      "|69b7d|mtrak to begin ra...|http://www.msnbc....|    [deleted]|    1|      Art| 1203467696|t3_69b7d|\n",
      "|69nmn|A sworn depositio...|http://www.newswe...|    [deleted]|    1|      Art| 1203708956|t3_69nmn|\n",
      "|6a2bf|Sara Jean Playmat...|http://www.pics-n...|      picmium|    0|      Art| 1204056453|t3_6a2bf|\n",
      "|6acm9|you may never for...|http://a803.ac-im...|     dubu2584|    0|      Art| 1204245922|t3_6acm9|\n",
      "|6agn7|Why Does Mona Lis...|http://www.livesc...|BookWormPride|    0|      Art| 1204325509|t3_6agn7|\n",
      "|6an9k| Star Trek Time Warp|http://uk.youtube...|    [deleted]|    0|      Art| 1204524052|t3_6an9k|\n",
      "|6av8g|The best Press Ph...|http://www.picerp...|      picmium|    4|      Art| 1204664529|t3_6av8g|\n",
      "|6avdi|New Bach Bust Cre...|http://www.livesc...|BookWormPride|    0|      Art| 1204666629|t3_6avdi|\n",
      "|6b0wv|Viktor &amp; Rolf...|http://myitthings...|      popcult|    0|      Art| 1204761448|t3_6b0wv|\n",
      "|6b1mu|Artkrush: bi-mont...|http://artkrush.com/|       OMouse|    3|      Art| 1204776294|t3_6b1mu|\n",
      "|6b5lu|The top ten album...|http://musicnatio...|        NyMet|    0|      Art| 1204842539|t3_6b5lu|\n",
      "|6bhws|Amazing Pencil De...|http://ironicresu...|  twinklestar|    7|      Art| 1205142741|t3_6bhws|\n",
      "|6bi0u|Aufkleber &amp; S...|http://www.stickm...|     klausuro|    1|      Art| 1205145930|t3_6bi0u|\n",
      "+-----+--------------------+--------------------+-------------+-----+---------+-----------+--------+\n",
      "only showing top 20 rows\n",
      "\n"
     ]
    }
   ],
   "source": [
    "submissions.show()"
   ]
  },
  {
   "cell_type": "code",
   "execution_count": 121,
   "metadata": {},
   "outputs": [],
   "source": [
    "joined = df8.join(submissions, df8.link_id == submissions.t3_id , \"inner\")"
   ]
  },
  {
   "cell_type": "code",
   "execution_count": 122,
   "metadata": {},
   "outputs": [
    {
     "name": "stdout",
     "output_type": "stream",
     "text": [
      "+--------------------+--------------------+--------+\n",
      "|                 url|          tag_counts| link_id|\n",
      "+--------------------+--------------------+--------+\n",
      "|http://www.andyke...|         [love -> 1]|t3_6d1wp|\n",
      "|https://www.reddi...|[love -> 2, trust...|t3_6dgm1|\n",
      "|http://centennial...|         [love -> 1]|t3_6drbl|\n",
      "|http://en.wikiped...|      [disgust -> 1]|t3_6hl7e|\n",
      "|http://news.bbc.c...|         [love -> 1]|t3_6jfgk|\n",
      "|http://fcmx.net/v...|         [love -> 1]|t3_6k0au|\n",
      "|http://www.brookl...|         [love -> 1]|t3_6l4no|\n",
      "|http://entertainm...|        [angry -> 1]|t3_6lcuk|\n",
      "|http://www.sfgate...|         [love -> 1]|t3_6nemu|\n",
      "|http://www.nytime...|         [love -> 1]|t3_6nh61|\n",
      "|http://gallery.ra...|         [love -> 1]|t3_6nhjr|\n",
      "|http://www.alexey...|         [love -> 1]|t3_6nmbc|\n",
      "|http://i-seldom-d...|         [love -> 1]|t3_6o49n|\n",
      "|http://www.design...|         [love -> 1]|t3_6o4xk|\n",
      "|http://www.tat2ts...|        [shame -> 1]|t3_6oic1|\n",
      "|http://blogs.guar...|         [love -> 1]|t3_6robm|\n",
      "|http://picdit.wor...|        [shame -> 1]|t3_6sak7|\n",
      "|http://www.adbust...|[trust -> 1, love...|t3_6u7bb|\n",
      "|http://picdit.wor...|        [happy -> 1]|t3_6uh9m|\n",
      "|http://www.smashi...|         [love -> 1]|t3_6v03v|\n",
      "+--------------------+--------------------+--------+\n",
      "only showing top 20 rows\n",
      "\n"
     ]
    }
   ],
   "source": [
    "joined.select([\"url\", \"tag_counts\", \"link_id\"]).show()"
   ]
  },
  {
   "cell_type": "code",
   "execution_count": 123,
   "metadata": {},
   "outputs": [],
   "source": [
    "# joined.select([\"url\", \"tag_counts\", \"link_id\"]).coalesce(1).write.mode(\"overwrite\").json(\"image_tags.json\")"
   ]
  },
  {
   "cell_type": "code",
   "execution_count": 124,
   "metadata": {},
   "outputs": [
    {
     "data": {
      "text/plain": [
       "87335"
      ]
     },
     "execution_count": 124,
     "metadata": {},
     "output_type": "execute_result"
    }
   ],
   "source": [
    "joined.count()"
   ]
  },
  {
   "cell_type": "code",
   "execution_count": null,
   "metadata": {},
   "outputs": [],
   "source": []
  },
  {
   "cell_type": "code",
   "execution_count": 125,
   "metadata": {},
   "outputs": [],
   "source": [
    "image_exist = spark.read.json(\"exist.json\")"
   ]
  },
  {
   "cell_type": "code",
   "execution_count": 126,
   "metadata": {},
   "outputs": [],
   "source": [
    "image_exist = spark.read.json(\"exist.json\")"
   ]
  },
  {
   "cell_type": "code",
   "execution_count": 127,
   "metadata": {},
   "outputs": [
    {
     "name": "stdout",
     "output_type": "stream",
     "text": [
      "+--------+-----------------------------------------------------------------------------------+\n",
      "|id      |url                                                                                |\n",
      "+--------+-----------------------------------------------------------------------------------+\n",
      "|t3_6rlvi|http://www.swoyersart.com/andrew_wyeth/christinasworld.jpg                         |\n",
      "|t3_9k85p|http://imgur.com/IEVK2.jpg                                                         |\n",
      "|t3_9zifh|http://i578.photobucket.com/albums/ss229/paulzeke/bucky_tat_final.jpg              |\n",
      "|t3_annss|http://imgur.com/QHkaf.jpg                                                         |\n",
      "|t3_b7ngn|http://imgur.com/iSFSx.jpg                                                         |\n",
      "|t3_bm54v|http://imgur.com/jo6Mm.jpg                                                         |\n",
      "|t3_bq316|http://i.imgur.com/f8qov.jpg                                                       |\n",
      "|t3_bxk0t|http://www.nn.ru/data/ufiles/4/00/69/1006926.Foto0290.jpg                          |\n",
      "|t3_cnwm3|http://imgur.com/226Am.jpg                                                         |\n",
      "|t3_cqjh0|http://fc05.deviantart.net/fs70/f/2010/200/9/8/98da77e50ded404a9dc0bbfa777dca12.jpg|\n",
      "+--------+-----------------------------------------------------------------------------------+\n",
      "only showing top 10 rows\n",
      "\n"
     ]
    }
   ],
   "source": [
    "image_exist.show(10, False)"
   ]
  },
  {
   "cell_type": "code",
   "execution_count": 128,
   "metadata": {},
   "outputs": [],
   "source": [
    "# final_dataset = image_exist.join(joined, joined.link_id == image_exist.id , \"inner\")"
   ]
  },
  {
   "cell_type": "code",
   "execution_count": 143,
   "metadata": {},
   "outputs": [],
   "source": [
    "# final_dataset = final_dataset.select([image_exist.id, \"author\", \"score\", \"tag_counts\", \"title\", \"created_utc\", image_exist.url])"
   ]
  },
  {
   "cell_type": "code",
   "execution_count": 144,
   "metadata": {},
   "outputs": [],
   "source": [
    "final_dataset = joined"
   ]
  },
  {
   "cell_type": "code",
   "execution_count": 145,
   "metadata": {},
   "outputs": [
    {
     "name": "stdout",
     "output_type": "stream",
     "text": [
      "+---------+--------------------+------+--------------------+------+--------------------+--------------------+--------------------+-----+---------+-----------+---------+\n",
      "|  link_id|   collect_list(tag)|n_tags|          tag_counts|    id|               title|                 url|              author|score|subreddit|created_utc|    t3_id|\n",
      "+---------+--------------------+------+--------------------+------+--------------------+--------------------+--------------------+-----+---------+-----------+---------+\n",
      "|t3_10gub6|              [love]|     1|         [love -> 1]|10gub6|\"Ambient Love\" Wh...|http://imgur.com/...|                Du7s|   27|      Art| 1348603615|t3_10gub6|\n",
      "|t3_10qhd2|             [weird]|     1|        [weird -> 1]|10qhd2|r/art, I need you...|http://i.imgur.co...|    TitusAndroidicus|   10|      Art| 1349050699|t3_10qhd2|\n",
      "|t3_13s2ce|[love, love, love...|     6|[love -> 5, weird...|13s2ce|Birth, Oils on ca...|http://i.imgur.co...|               Bean0| 1130|      Art| 1353882608|t3_13s2ce|\n",
      "|t3_1673vf|              [love]|     1|         [love -> 1]|1673vf|\"On This Earth\", ...|http://i.imgur.co...|       lobsterclause|    6|      Art| 1357671267|t3_1673vf|\n",
      "|t3_16lm2n|              [love]|     1|         [love -> 1]|16lm2n|'clever streets' ...|http://internetve...|            BONUSBOX|  360|      Art| 1358224859|t3_16lm2n|\n",
      "|t3_1al45b|[love, love, love...|     5|         [love -> 5]|1al45b|Skull study - pri...|http://imgur.com/...|           [deleted]| 1242|      Art| 1363690652|t3_1al45b|\n",
      "|t3_1an7ez|        [love, love]|     2|         [love -> 2]|1an7ez|Collage I made to...|http://imgur.com/...|           [deleted]|    6|      Art| 1363753090|t3_1an7ez|\n",
      "|t3_1ckh8e|              [love]|     1|         [love -> 1]|1ckh8e|\"Finding yourself...|http://i.imgur.co...|       BDIllustrator|  195|      Art| 1366241252|t3_1ckh8e|\n",
      "|t3_1dg8w9|             [happy]|     1|        [happy -> 1]|1dg8w9|I'm looking for s...|http://www.reddit...|           J_Johnson|    0|      Art| 1367370052|t3_1dg8w9|\n",
      "|t3_1driqs|              [love]|     1|         [love -> 1]|1driqs|\"Hands\" 18 in x 2...|http://imgur.com/...|       AKidNamedGabe|    5|      Art| 1367802758|t3_1driqs|\n",
      "|t3_1fr3g3|              [love]|     1|         [love -> 1]|1fr3g3|Bass Rocks, Glouc...|http://www.flickr...|            jakerome|   41|      Art| 1370471867|t3_1fr3g3|\n",
      "|t3_1hh7o5|              [love]|     1|         [love -> 1]|1hh7o5|Inspired by the e...|http://imgur.com/...|             mlp-art|   30|      Art| 1372740311|t3_1hh7o5|\n",
      "|t3_1hof72|              [love]|     1|         [love -> 1]|1hof72|My friend's lates...|http://imgur.com/...|DefinitelynotPurging|    0|      Art| 1373004845|t3_1hof72|\n",
      "|t3_1jp4kg|              [love]|     1|         [love -> 1]|1jp4kg|Tiger banner, goa...|http://i.imgur.co...|     TaxonomyAnomaly|   73|      Art| 1375648159|t3_1jp4kg|\n",
      "|t3_1kcyql|               [sad]|     1|          [sad -> 1]|1kcyql|Broadway in Nashv...|http://leviwatson...|          xenoblade1|   33|      Art| 1376501060|t3_1kcyql|\n",
      "|t3_1m28tx|              [love]|     1|         [love -> 1]|1m28tx|        Pug painting|http://imgur.com/...|               tje06|   39|      Art| 1378763697|t3_1m28tx|\n",
      "|t3_1pe0af|       [love, happy]|     2|[love -> 1, happy...|1pe0af|[Some]Bob Marley, 4u|http://imgur.com/...|           [deleted]|   14|      Art| 1382972379|t3_1pe0af|\n",
      "|t3_1qwi73|              [love]|     1|         [love -> 1]|1qwi73|Rebel. Digital il...|http://imgur.com/...|         actuallyguy|  203|      Art| 1384791336|t3_1qwi73|\n",
      "|t3_1s6krc|[love, sad, love,...|     6|[love -> 5, sad -...|1s6krc|My first printed ...|http://i.imgur.co...|           SenenCito| 1991|      Art| 1386272787|t3_1s6krc|\n",
      "|t3_1scequ|       [love, weird]|     2|[love -> 1, weird...|1scequ|Daisy's for my fi...|http://imgur.com/...|            johnc456|   25|      Art| 1386454576|t3_1scequ|\n",
      "+---------+--------------------+------+--------------------+------+--------------------+--------------------+--------------------+-----+---------+-----------+---------+\n",
      "only showing top 20 rows\n",
      "\n"
     ]
    }
   ],
   "source": [
    "final_dataset.show()"
   ]
  },
  {
   "cell_type": "code",
   "execution_count": 146,
   "metadata": {},
   "outputs": [
    {
     "data": {
      "text/plain": [
       "87335"
      ]
     },
     "execution_count": 146,
     "metadata": {},
     "output_type": "execute_result"
    }
   ],
   "source": [
    "final_dataset.count()"
   ]
  },
  {
   "cell_type": "code",
   "execution_count": 132,
   "metadata": {},
   "outputs": [],
   "source": [
    "final_dataset.coalesce(1).write.json(\"rart-v0.5\")"
   ]
  },
  {
   "cell_type": "code",
   "execution_count": 147,
   "metadata": {},
   "outputs": [],
   "source": [
    "data = final_dataset.toPandas().to_dict(\"records\")"
   ]
  },
  {
   "cell_type": "code",
   "execution_count": 148,
   "metadata": {},
   "outputs": [
    {
     "data": {
      "text/plain": [
       "{'link_id': 't3_10gub6',\n",
       " 'collect_list(tag)': ['love'],\n",
       " 'n_tags': 1,\n",
       " 'tag_counts': {'love': 1},\n",
       " 'id': '10gub6',\n",
       " 'title': '\"Ambient Love\" White charcoal on black strathmore paper.  Dimensions 19 in x 9 in (48.26 cm x 22.86 cm)  About 8 hours',\n",
       " 'url': 'http://imgur.com/a/PGOg1',\n",
       " 'author': 'Du7s',\n",
       " 'score': '27',\n",
       " 'subreddit': 'Art',\n",
       " 'created_utc': '1348603615',\n",
       " 't3_id': 't3_10gub6'}"
      ]
     },
     "execution_count": 148,
     "metadata": {},
     "output_type": "execute_result"
    }
   ],
   "source": [
    "data[0]"
   ]
  },
  {
   "cell_type": "code",
   "execution_count": 149,
   "metadata": {},
   "outputs": [],
   "source": [
    "max_score = max([int(item[\"score\"]) for item in data])"
   ]
  },
  {
   "cell_type": "code",
   "execution_count": 150,
   "metadata": {},
   "outputs": [],
   "source": [
    "min_score = min([int(item[\"score\"]) for item in data])"
   ]
  },
  {
   "cell_type": "code",
   "execution_count": 151,
   "metadata": {},
   "outputs": [
    {
     "data": {
      "text/plain": [
       "(0, 98754)"
      ]
     },
     "execution_count": 151,
     "metadata": {},
     "output_type": "execute_result"
    }
   ],
   "source": [
    "min_score, max_score"
   ]
  },
  {
   "cell_type": "code",
   "execution_count": 154,
   "metadata": {},
   "outputs": [],
   "source": [
    "from collections import defaultdict, Counter\n",
    "\n",
    "tags = defaultdict(list)\n",
    "\n",
    "for item in data:\n",
    "    id = item.get(\"id\")\n",
    "    score = int(item[\"score\"])\n",
    "    factor = score / max_score\n",
    "    extension = item.get(\"url\").split(\".\")[-1]\n",
    "    file = f\"imagefiles/{id}.{extension}\"\n",
    "    for tag, count in item.get(\"tag_counts\", {}).items():\n",
    "        tags[tag].append((item.get(\"url\"), count))\n",
    "\n",
    "for tag in tags:\n",
    "    tags[tag] = sorted(tags[tag], key=lambda x: -x[1])[0:100]"
   ]
  },
  {
   "cell_type": "code",
   "execution_count": 155,
   "metadata": {},
   "outputs": [],
   "source": [
    "import pickle\n",
    "pickle.dump(tags, open(\"tags.p\", \"wb\"))"
   ]
  },
  {
   "cell_type": "code",
   "execution_count": 156,
   "metadata": {},
   "outputs": [
    {
     "data": {
      "text/plain": [
       "dict_keys(['love', 'weird', 'happy', 'sad', 'shame', 'happiness', 'fear', 'gloomy', 'neutral', 'anger', 'scary', 'lonely', 'sadness', 'trust', 'surprise', 'disgust', 'angry', 'peaceful', 'pessimism', 'regret', 'anticipation', 'gratitude', 'optimism', 'humility', 'arrogance', 'shyness'])"
      ]
     },
     "execution_count": 156,
     "metadata": {},
     "output_type": "execute_result"
    }
   ],
   "source": [
    "tags.keys()"
   ]
  },
  {
   "cell_type": "code",
   "execution_count": 157,
   "metadata": {},
   "outputs": [
    {
     "data": {
      "text/plain": [
       "[('http://imgur.com/5ZR7Y2q', 45),\n",
       " ('http://i.imgur.com/a1UTAoG.jpg?1.jpg', 34),\n",
       " ('https://i.redd.it/z93syy4oruxy.jpg', 24),\n",
       " ('https://i.redd.it/r1rlxlg9hcr51.jpg', 24),\n",
       " ('https://i.redd.it/o4oku48qk9py.png', 23),\n",
       " ('http://imgur.com/Mf09Fou', 22),\n",
       " ('https://i.redd.it/yao3wukokpry.jpg', 19),\n",
       " ('https://i.redd.it/2anz79rxg7n01.jpg', 16),\n",
       " ('http://imgur.com/9twwzjA', 14),\n",
       " ('https://i.redd.it/ztzjqonmthm11.jpg', 14),\n",
       " ('https://i.imgur.com/HVTzfFm.jpg', 14),\n",
       " ('https://medium.com/@noahbradley/how-i-became-an-artist-4390c6b6656c', 14),\n",
       " ('http://www.birthdaywishessms.com/birthday-wishes/birthday-wishes/', 14),\n",
       " ('https://i.redd.it/rvcfbmltf5841.jpg', 14),\n",
       " ('https://i.redd.it/10z3puo01si21.jpg', 13),\n",
       " ('https://i.redd.it/mzwlzi8me9tz.jpg', 13),\n",
       " ('http://imgur.com/gallery/ypyya', 12),\n",
       " ('https://i.redd.it/xvmoo08ziul51.jpg', 12),\n",
       " ('http://i.imgur.com/Qa9Paax.jpg', 12),\n",
       " ('https://i.redd.it/pw0n37qm0f841.jpg', 12),\n",
       " ('http://imgur.com/81Yigef', 11),\n",
       " ('https://i.redd.it/jhpechlmnfn31.jpg', 11),\n",
       " ('https://gfycat.com/ConsiderateWeepyHyracotherium', 11),\n",
       " ('http://i.imgur.com/oQwbh7t.jpg', 11),\n",
       " ('https://i.redd.it/w19xzaz9uh161.jpg', 11),\n",
       " ('https://i.imgur.com/Ym9Jyy6.jpg', 11),\n",
       " ('https://i.reddituploads.com/1461bfadee554c6c8d8de0c679870819?fit=max&amp;h=1536&amp;w=1536&amp;s=0632075ccd97a9d28d06f42fad3912f6',\n",
       "  10),\n",
       " ('https://i.redd.it/pwrec5r76cxy.jpg', 10),\n",
       " ('http://i.imgur.com/DF6dh.jpg', 10),\n",
       " ('https://i.redd.it/kyyk3fbfitd31.png', 10),\n",
       " ('https://i.redd.it/bvwf0bkxpsd51.jpg', 9),\n",
       " ('https://i.redd.it/5eh1xe4ldfi51.gif', 9),\n",
       " ('https://i.redd.it/q1z0ub6mazl11.jpg', 9),\n",
       " ('https://i.redd.it/1930acyf8lq21.jpg', 9),\n",
       " ('http://i.imgur.com/n7XtyAx.jpg', 9),\n",
       " ('https://i.redd.it/0su47q0x6kd11.jpg', 8),\n",
       " ('https://i.redd.it/hivqty9sjai41.jpg', 8),\n",
       " ('https://i.redd.it/aqexhtxbv6q11.jpg', 8),\n",
       " ('https://i.redd.it/bwkby8xobhe41.jpg', 8),\n",
       " ('https://i.redd.it/7ea41ziaqvf01.jpg', 7),\n",
       " ('https://i.redd.it/dgyv56gob6m31.jpg', 7),\n",
       " ('https://i.redd.it/txmefrvv1h901.jpg', 7),\n",
       " ('https://i.redd.it/78k7xspaeyk31.jpg', 7),\n",
       " ('http://imgur.com/gallery/ygFeGRA', 7),\n",
       " ('https://i.redd.it/37btlf9tmx911.jpg', 7),\n",
       " ('http://imgur.com/ygFeGRA', 7),\n",
       " ('https://i.imgur.com/strhc9g.jpg', 7),\n",
       " ('https://i.redd.it/rz3qfa7e55n41.jpg', 7),\n",
       " ('https://i.redd.it/xep5t1ph7hwy.jpg', 7),\n",
       " ('http://uk.businessinsider.com/its-not-worth-it-linds-reddings-short-lesson-in-perspective-2012-11?r=US&amp;IR=T',\n",
       "  7),\n",
       " ('https://i.imgur.com/RptS9tu.jpg', 7),\n",
       " ('https://i.redd.it/3mb57gy1xqh51.jpg', 7),\n",
       " ('https://i.redd.it/97ynhkm5mza41.jpg', 7),\n",
       " ('https://gfycat.com/InexperiencedTotalAtlasmoth', 6),\n",
       " ('https://i.redd.it/p3webvae14c51.jpg', 6),\n",
       " ('http://speial.github.io/happy_earth_day/happy_earth_day.jpg', 6),\n",
       " ('https://i.redd.it/ldt6v43152x01.jpg', 6),\n",
       " ('https://i.redd.it/wojyn464xhg41.jpg', 6),\n",
       " ('https://i.redd.it/nvptstkl5ew41.jpg', 6),\n",
       " ('https://i.redd.it/sy9f9dqh4sb11.jpg', 6),\n",
       " ('https://i.redd.it/1xpsou79a4f01.jpg', 6),\n",
       " ('https://i.redd.it/hlr753c34pj21.jpg', 6),\n",
       " ('https://i.redd.it/slqy2hkpg0b31.png', 6),\n",
       " ('https://i.redd.it/1g3ccn556nl31.jpg', 6),\n",
       " ('http://www.reddit.com/r/Art/comments/39fthj/i_am_neil_degrasse_tyson_an_astrophysicist_but_i/',\n",
       "  6),\n",
       " ('https://i.redd.it/iaki32k9o1zy.jpg', 6),\n",
       " ('https://i.redd.it/s9saxequo9r11.jpg', 6),\n",
       " ('http://imgur.com/xBuCc', 6),\n",
       " ('https://i.redd.it/lne1lwhkdap51.jpg', 6),\n",
       " ('https://i.redd.it/cog6b6zf36441.jpg', 6),\n",
       " ('https://i.redd.it/nf7smr8p2tp51.jpg', 5),\n",
       " ('https://i.imgur.com/rroYeYr.gif', 5),\n",
       " ('https://i.redd.it/cztoctyeqt141.jpg', 5),\n",
       " ('http://imgur.com/gallery/ZrDq6UQ', 5),\n",
       " ('https://i.redd.it/rm7ii9jlgpm41.jpg', 5),\n",
       " ('https://i.redd.it/x18p4fw54gp21.jpg', 5),\n",
       " ('http://i.imgur.com/oE8JDhm.jpg', 5),\n",
       " ('http://i.imgur.com/w8B6wCV.jpg', 5),\n",
       " ('http://imgur.com/gallery/7juKWgU', 5),\n",
       " ('https://i.redd.it/e92zdby8zgd41.jpg', 5),\n",
       " ('https://i.redd.it/fssdn82qmus41.jpg', 5),\n",
       " ('https://i.redd.it/6h54xpgczxz41.jpg', 5),\n",
       " ('https://i.redd.it/ql6lx69dx9p21.jpg', 5),\n",
       " ('https://i.redd.it/i7dpf8ryn1cy.jpg', 5),\n",
       " ('https://i.redd.it/shllp7yh0gxy.jpg', 5),\n",
       " ('http://i.imgur.com/ODiNM.jpg', 5),\n",
       " ('https://i.imgur.com/n4D0m9F.gifv', 5),\n",
       " ('https://i.redd.it/rkcq1s8496q31.jpg', 5),\n",
       " ('https://i.redd.it/nh2dyjjqg5061.jpg', 5),\n",
       " ('https://i.redd.it/6knpm1vhxgo41.jpg', 5),\n",
       " ('https://i.redd.it/jm7q5lgmmdw11.jpg', 5),\n",
       " ('https://i.imgur.com/Yajgc3R.jpg', 5),\n",
       " ('https://i.redd.it/itc0fwi3xmky.jpg', 5),\n",
       " ('https://i.redd.it/w29gpbl5m2a31.jpg', 5),\n",
       " ('https://i.redd.it/4xu5iq2h9we31.jpg', 5),\n",
       " ('https://i.redd.it/6i2z577711n41.jpg', 5),\n",
       " ('https://i.redd.it/bc989q865ip21.jpg', 5),\n",
       " ('https://i.redd.it/fdb8u9fr3dx21.jpg', 5),\n",
       " ('https://i.redd.it/6epx0ec456y41.jpg', 5),\n",
       " ('https://i.redd.it/0y0zjok9dy841.jpg', 5)]"
      ]
     },
     "execution_count": 157,
     "metadata": {},
     "output_type": "execute_result"
    }
   ],
   "source": [
    "tags[\"happy\"]"
   ]
  },
  {
   "cell_type": "code",
   "execution_count": 121,
   "metadata": {},
   "outputs": [
    {
     "name": "stdout",
     "output_type": "stream",
     "text": [
      " * Serving Flask app \"__main__\" (lazy loading)\n",
      " * Environment: production\n",
      "   WARNING: This is a development server. Do not use it in a production deployment.\n",
      "   Use a production WSGI server instead.\n",
      " * Debug mode: on\n"
     ]
    },
    {
     "ename": "OSError",
     "evalue": "[Errno 98] Address already in use",
     "output_type": "error",
     "traceback": [
      "\u001b[0;31m---------------------------------------------------------------------------\u001b[0m",
      "\u001b[0;31mOSError\u001b[0m                                   Traceback (most recent call last)",
      "\u001b[0;32m<ipython-input-121-bc251726f5d5>\u001b[0m in \u001b[0;36m<module>\u001b[0;34m\u001b[0m\n\u001b[1;32m     15\u001b[0m \u001b[0;32mif\u001b[0m \u001b[0m__name__\u001b[0m \u001b[0;34m==\u001b[0m \u001b[0;34m\"__main__\"\u001b[0m\u001b[0;34m:\u001b[0m\u001b[0;34m\u001b[0m\u001b[0;34m\u001b[0m\u001b[0m\n\u001b[1;32m     16\u001b[0m     \u001b[0mapp\u001b[0m\u001b[0;34m.\u001b[0m\u001b[0mdebug\u001b[0m \u001b[0;34m=\u001b[0m \u001b[0;32mTrue\u001b[0m\u001b[0;34m\u001b[0m\u001b[0;34m\u001b[0m\u001b[0m\n\u001b[0;32m---> 17\u001b[0;31m     \u001b[0mapp\u001b[0m\u001b[0;34m.\u001b[0m\u001b[0mrun\u001b[0m\u001b[0;34m(\u001b[0m\u001b[0mhost\u001b[0m\u001b[0;34m=\u001b[0m\u001b[0;34m'0.0.0.0'\u001b[0m\u001b[0;34m,\u001b[0m \u001b[0mport\u001b[0m\u001b[0;34m=\u001b[0m\u001b[0;36m5000\u001b[0m\u001b[0;34m)\u001b[0m\u001b[0;34m\u001b[0m\u001b[0;34m\u001b[0m\u001b[0m\n\u001b[0m",
      "\u001b[0;32m~/.local/lib/python3.8/site-packages/flask/app.py\u001b[0m in \u001b[0;36mrun\u001b[0;34m(self, host, port, debug, load_dotenv, **options)\u001b[0m\n\u001b[1;32m    988\u001b[0m \u001b[0;34m\u001b[0m\u001b[0m\n\u001b[1;32m    989\u001b[0m         \u001b[0;32mtry\u001b[0m\u001b[0;34m:\u001b[0m\u001b[0;34m\u001b[0m\u001b[0;34m\u001b[0m\u001b[0m\n\u001b[0;32m--> 990\u001b[0;31m             \u001b[0mrun_simple\u001b[0m\u001b[0;34m(\u001b[0m\u001b[0mhost\u001b[0m\u001b[0;34m,\u001b[0m \u001b[0mport\u001b[0m\u001b[0;34m,\u001b[0m \u001b[0mself\u001b[0m\u001b[0;34m,\u001b[0m \u001b[0;34m**\u001b[0m\u001b[0moptions\u001b[0m\u001b[0;34m)\u001b[0m\u001b[0;34m\u001b[0m\u001b[0;34m\u001b[0m\u001b[0m\n\u001b[0m\u001b[1;32m    991\u001b[0m         \u001b[0;32mfinally\u001b[0m\u001b[0;34m:\u001b[0m\u001b[0;34m\u001b[0m\u001b[0;34m\u001b[0m\u001b[0m\n\u001b[1;32m    992\u001b[0m             \u001b[0;31m# reset the first request information if the development server\u001b[0m\u001b[0;34m\u001b[0m\u001b[0;34m\u001b[0m\u001b[0;34m\u001b[0m\u001b[0m\n",
      "\u001b[0;32m~/.local/lib/python3.8/site-packages/werkzeug/serving.py\u001b[0m in \u001b[0;36mrun_simple\u001b[0;34m(hostname, port, application, use_reloader, use_debugger, use_evalex, extra_files, reloader_interval, reloader_type, threaded, processes, request_handler, static_files, passthrough_errors, ssl_context)\u001b[0m\n\u001b[1;32m   1028\u001b[0m             \u001b[0ms\u001b[0m \u001b[0;34m=\u001b[0m \u001b[0msocket\u001b[0m\u001b[0;34m.\u001b[0m\u001b[0msocket\u001b[0m\u001b[0;34m(\u001b[0m\u001b[0maddress_family\u001b[0m\u001b[0;34m,\u001b[0m \u001b[0msocket\u001b[0m\u001b[0;34m.\u001b[0m\u001b[0mSOCK_STREAM\u001b[0m\u001b[0;34m)\u001b[0m\u001b[0;34m\u001b[0m\u001b[0;34m\u001b[0m\u001b[0m\n\u001b[1;32m   1029\u001b[0m             \u001b[0ms\u001b[0m\u001b[0;34m.\u001b[0m\u001b[0msetsockopt\u001b[0m\u001b[0;34m(\u001b[0m\u001b[0msocket\u001b[0m\u001b[0;34m.\u001b[0m\u001b[0mSOL_SOCKET\u001b[0m\u001b[0;34m,\u001b[0m \u001b[0msocket\u001b[0m\u001b[0;34m.\u001b[0m\u001b[0mSO_REUSEADDR\u001b[0m\u001b[0;34m,\u001b[0m \u001b[0;36m1\u001b[0m\u001b[0;34m)\u001b[0m\u001b[0;34m\u001b[0m\u001b[0;34m\u001b[0m\u001b[0m\n\u001b[0;32m-> 1030\u001b[0;31m             \u001b[0ms\u001b[0m\u001b[0;34m.\u001b[0m\u001b[0mbind\u001b[0m\u001b[0;34m(\u001b[0m\u001b[0mserver_address\u001b[0m\u001b[0;34m)\u001b[0m\u001b[0;34m\u001b[0m\u001b[0;34m\u001b[0m\u001b[0m\n\u001b[0m\u001b[1;32m   1031\u001b[0m             \u001b[0;32mif\u001b[0m \u001b[0mhasattr\u001b[0m\u001b[0;34m(\u001b[0m\u001b[0ms\u001b[0m\u001b[0;34m,\u001b[0m \u001b[0;34m\"set_inheritable\"\u001b[0m\u001b[0;34m)\u001b[0m\u001b[0;34m:\u001b[0m\u001b[0;34m\u001b[0m\u001b[0;34m\u001b[0m\u001b[0m\n\u001b[1;32m   1032\u001b[0m                 \u001b[0ms\u001b[0m\u001b[0;34m.\u001b[0m\u001b[0mset_inheritable\u001b[0m\u001b[0;34m(\u001b[0m\u001b[0;32mTrue\u001b[0m\u001b[0;34m)\u001b[0m\u001b[0;34m\u001b[0m\u001b[0;34m\u001b[0m\u001b[0m\n",
      "\u001b[0;31mOSError\u001b[0m: [Errno 98] Address already in use"
     ]
    }
   ],
   "source": [
    "from flask import Flask\n",
    "\n",
    "import pickle\n",
    "\n",
    "app = Flask(__name__)\n",
    "\n",
    "tags = pickle.load(open(\"tags.p\", \"rb\"))\n",
    "\n",
    "@app.route('/show/<tag>', methods=['GET'])\n",
    "def show(tag): \n",
    "    images = tags.get(tag)\n",
    "    elements = [f\"<img src={url}/>\" for url, count in images]\n",
    "    return \"<br/>\".join(elements)\n",
    "\n",
    "if __name__ == \"__main__\":\n",
    "    app.debug = True\n",
    "    app.run(host='0.0.0.0', port=5000)"
   ]
  },
  {
   "cell_type": "code",
   "execution_count": 116,
   "metadata": {},
   "outputs": [
    {
     "name": "stdout",
     "output_type": "stream",
     "text": [
      "Collecting flask\n",
      "  Downloading Flask-1.1.2-py2.py3-none-any.whl (94 kB)\n",
      "\u001b[K     |████████████████████████████████| 94 kB 5.2 MB/s  eta 0:00:01\n",
      "\u001b[?25hRequirement already satisfied: click>=5.1 in /usr/lib/python3/dist-packages (from flask) (7.0)\n",
      "Collecting itsdangerous>=0.24\n",
      "  Downloading itsdangerous-1.1.0-py2.py3-none-any.whl (16 kB)\n",
      "Requirement already satisfied: Jinja2>=2.10.1 in /usr/lib/python3/dist-packages (from flask) (2.10.1)\n",
      "Collecting Werkzeug>=0.15\n",
      "  Downloading Werkzeug-1.0.1-py2.py3-none-any.whl (298 kB)\n",
      "\u001b[K     |████████████████████████████████| 298 kB 26.4 MB/s eta 0:00:01\n",
      "\u001b[?25hInstalling collected packages: itsdangerous, Werkzeug, flask\n",
      "Successfully installed Werkzeug-1.0.1 flask-1.1.2 itsdangerous-1.1.0\n"
     ]
    }
   ],
   "source": [
    "!pip3 install flask"
   ]
  },
  {
   "cell_type": "code",
   "execution_count": 48,
   "metadata": {},
   "outputs": [],
   "source": [
    " from io import StringIO"
   ]
  },
  {
   "cell_type": "code",
   "execution_count": 66,
   "metadata": {},
   "outputs": [],
   "source": [
    "url = \"http://www.likecool.com/Gear/Other/Spider-Man%20Tattoo/Spider-Man-Tattoo.jpg\""
   ]
  },
  {
   "cell_type": "code",
   "execution_count": 74,
   "metadata": {},
   "outputs": [
    {
     "data": {
      "text/plain": [
       "False"
      ]
     },
     "execution_count": 74,
     "metadata": {},
     "output_type": "execute_result"
    }
   ],
   "source": [
    "r = requests.get(url, stream=True)\n",
    "r.status_code in list(range(200, 210))"
   ]
  },
  {
   "cell_type": "code",
   "execution_count": 72,
   "metadata": {},
   "outputs": [
    {
     "data": {
      "text/plain": [
       "[200, 201, 202, 203, 204, 205, 206, 207, 208, 209]"
      ]
     },
     "execution_count": 72,
     "metadata": {},
     "output_type": "execute_result"
    }
   ],
   "source": [
    "list(range(200, 210))"
   ]
  },
  {
   "cell_type": "code",
   "execution_count": 5,
   "metadata": {},
   "outputs": [],
   "source": [
    "import mimetypes\n",
    "import requests\n",
    "\n",
    "def is_url_image(url):    \n",
    "    mimetype,encoding = mimetypes.guess_type(url)\n",
    "    return (mimetype and mimetype.startswith('image'))\n",
    "\n",
    "def url_exists(url):\n",
    "    try:\n",
    "        r = requests.get(url, timeout=0.001)\n",
    "        return r.status_code in list(range(200, 210))\n",
    "    except:\n",
    "        return False\n",
    "    \n",
    "def check_image(url):\n",
    "    return is_url_image(url)"
   ]
  },
  {
   "cell_type": "code",
   "execution_count": 6,
   "metadata": {},
   "outputs": [],
   "source": [
    "is_image_udf = udf(lambda z: is_url_image(z), BooleanType())"
   ]
  },
  {
   "cell_type": "code",
   "execution_count": 7,
   "metadata": {},
   "outputs": [],
   "source": [
    "url_exists_udf = udf(lambda z: url_exists(z), BooleanType())"
   ]
  },
  {
   "cell_type": "code",
   "execution_count": 38,
   "metadata": {},
   "outputs": [],
   "source": [
    "submissions = spark.read.schema(sub_schema).json(\"submission.json\")"
   ]
  },
  {
   "cell_type": "code",
   "execution_count": 9,
   "metadata": {},
   "outputs": [],
   "source": [
    "submissions = submissions.filter(is_image_udf(col(\"url\")))"
   ]
  },
  {
   "cell_type": "code",
   "execution_count": 10,
   "metadata": {},
   "outputs": [],
   "source": [
    "submissions = submissions.filter(url_exists_udf(col(\"url\")))"
   ]
  },
  {
   "cell_type": "code",
   "execution_count": 11,
   "metadata": {},
   "outputs": [],
   "source": [
    "# submissions.show()"
   ]
  },
  {
   "cell_type": "code",
   "execution_count": 13,
   "metadata": {},
   "outputs": [],
   "source": [
    "spark.stop()"
   ]
  },
  {
   "cell_type": "code",
   "execution_count": 12,
   "metadata": {},
   "outputs": [
    {
     "ename": "KeyboardInterrupt",
     "evalue": "",
     "output_type": "error",
     "traceback": [
      "\u001b[0;31m---------------------------------------------------------------------------\u001b[0m",
      "\u001b[0;31mKeyboardInterrupt\u001b[0m                         Traceback (most recent call last)",
      "\u001b[0;32m<ipython-input-12-7f9b57941d51>\u001b[0m in \u001b[0;36m<module>\u001b[0;34m\u001b[0m\n\u001b[0;32m----> 1\u001b[0;31m \u001b[0msubmissions\u001b[0m\u001b[0;34m.\u001b[0m\u001b[0mwrite\u001b[0m\u001b[0;34m.\u001b[0m\u001b[0mjson\u001b[0m\u001b[0;34m(\u001b[0m\u001b[0;34m\"images_exist.json\"\u001b[0m\u001b[0;34m)\u001b[0m\u001b[0;34m\u001b[0m\u001b[0;34m\u001b[0m\u001b[0m\n\u001b[0m",
      "\u001b[0;32m/opt/spark-3.0.1-bin-without-hadoop/python/pyspark/sql/readwriter.py\u001b[0m in \u001b[0;36mjson\u001b[0;34m(self, path, mode, compression, dateFormat, timestampFormat, lineSep, encoding, ignoreNullFields)\u001b[0m\n\u001b[1;32m    907\u001b[0m             \u001b[0mcompression\u001b[0m\u001b[0;34m=\u001b[0m\u001b[0mcompression\u001b[0m\u001b[0;34m,\u001b[0m \u001b[0mdateFormat\u001b[0m\u001b[0;34m=\u001b[0m\u001b[0mdateFormat\u001b[0m\u001b[0;34m,\u001b[0m \u001b[0mtimestampFormat\u001b[0m\u001b[0;34m=\u001b[0m\u001b[0mtimestampFormat\u001b[0m\u001b[0;34m,\u001b[0m\u001b[0;34m\u001b[0m\u001b[0;34m\u001b[0m\u001b[0m\n\u001b[1;32m    908\u001b[0m             lineSep=lineSep, encoding=encoding, ignoreNullFields=ignoreNullFields)\n\u001b[0;32m--> 909\u001b[0;31m         \u001b[0mself\u001b[0m\u001b[0;34m.\u001b[0m\u001b[0m_jwrite\u001b[0m\u001b[0;34m.\u001b[0m\u001b[0mjson\u001b[0m\u001b[0;34m(\u001b[0m\u001b[0mpath\u001b[0m\u001b[0;34m)\u001b[0m\u001b[0;34m\u001b[0m\u001b[0;34m\u001b[0m\u001b[0m\n\u001b[0m\u001b[1;32m    910\u001b[0m \u001b[0;34m\u001b[0m\u001b[0m\n\u001b[1;32m    911\u001b[0m     \u001b[0;34m@\u001b[0m\u001b[0msince\u001b[0m\u001b[0;34m(\u001b[0m\u001b[0;36m1.4\u001b[0m\u001b[0;34m)\u001b[0m\u001b[0;34m\u001b[0m\u001b[0;34m\u001b[0m\u001b[0m\n",
      "\u001b[0;32m/opt/spark-3.0.1-bin-without-hadoop/python/lib/py4j-0.10.9-src.zip/py4j/java_gateway.py\u001b[0m in \u001b[0;36m__call__\u001b[0;34m(self, *args)\u001b[0m\n\u001b[1;32m   1301\u001b[0m             \u001b[0mproto\u001b[0m\u001b[0;34m.\u001b[0m\u001b[0mEND_COMMAND_PART\u001b[0m\u001b[0;34m\u001b[0m\u001b[0;34m\u001b[0m\u001b[0m\n\u001b[1;32m   1302\u001b[0m \u001b[0;34m\u001b[0m\u001b[0m\n\u001b[0;32m-> 1303\u001b[0;31m         \u001b[0manswer\u001b[0m \u001b[0;34m=\u001b[0m \u001b[0mself\u001b[0m\u001b[0;34m.\u001b[0m\u001b[0mgateway_client\u001b[0m\u001b[0;34m.\u001b[0m\u001b[0msend_command\u001b[0m\u001b[0;34m(\u001b[0m\u001b[0mcommand\u001b[0m\u001b[0;34m)\u001b[0m\u001b[0;34m\u001b[0m\u001b[0;34m\u001b[0m\u001b[0m\n\u001b[0m\u001b[1;32m   1304\u001b[0m         return_value = get_return_value(\n\u001b[1;32m   1305\u001b[0m             answer, self.gateway_client, self.target_id, self.name)\n",
      "\u001b[0;32m/opt/spark-3.0.1-bin-without-hadoop/python/lib/py4j-0.10.9-src.zip/py4j/java_gateway.py\u001b[0m in \u001b[0;36msend_command\u001b[0;34m(self, command, retry, binary)\u001b[0m\n\u001b[1;32m   1031\u001b[0m         \u001b[0mconnection\u001b[0m \u001b[0;34m=\u001b[0m \u001b[0mself\u001b[0m\u001b[0;34m.\u001b[0m\u001b[0m_get_connection\u001b[0m\u001b[0;34m(\u001b[0m\u001b[0;34m)\u001b[0m\u001b[0;34m\u001b[0m\u001b[0;34m\u001b[0m\u001b[0m\n\u001b[1;32m   1032\u001b[0m         \u001b[0;32mtry\u001b[0m\u001b[0;34m:\u001b[0m\u001b[0;34m\u001b[0m\u001b[0;34m\u001b[0m\u001b[0m\n\u001b[0;32m-> 1033\u001b[0;31m             \u001b[0mresponse\u001b[0m \u001b[0;34m=\u001b[0m \u001b[0mconnection\u001b[0m\u001b[0;34m.\u001b[0m\u001b[0msend_command\u001b[0m\u001b[0;34m(\u001b[0m\u001b[0mcommand\u001b[0m\u001b[0;34m)\u001b[0m\u001b[0;34m\u001b[0m\u001b[0;34m\u001b[0m\u001b[0m\n\u001b[0m\u001b[1;32m   1034\u001b[0m             \u001b[0;32mif\u001b[0m \u001b[0mbinary\u001b[0m\u001b[0;34m:\u001b[0m\u001b[0;34m\u001b[0m\u001b[0;34m\u001b[0m\u001b[0m\n\u001b[1;32m   1035\u001b[0m                 \u001b[0;32mreturn\u001b[0m \u001b[0mresponse\u001b[0m\u001b[0;34m,\u001b[0m \u001b[0mself\u001b[0m\u001b[0;34m.\u001b[0m\u001b[0m_create_connection_guard\u001b[0m\u001b[0;34m(\u001b[0m\u001b[0mconnection\u001b[0m\u001b[0;34m)\u001b[0m\u001b[0;34m\u001b[0m\u001b[0;34m\u001b[0m\u001b[0m\n",
      "\u001b[0;32m/opt/spark-3.0.1-bin-without-hadoop/python/lib/py4j-0.10.9-src.zip/py4j/java_gateway.py\u001b[0m in \u001b[0;36msend_command\u001b[0;34m(self, command)\u001b[0m\n\u001b[1;32m   1198\u001b[0m \u001b[0;34m\u001b[0m\u001b[0m\n\u001b[1;32m   1199\u001b[0m         \u001b[0;32mtry\u001b[0m\u001b[0;34m:\u001b[0m\u001b[0;34m\u001b[0m\u001b[0;34m\u001b[0m\u001b[0m\n\u001b[0;32m-> 1200\u001b[0;31m             \u001b[0manswer\u001b[0m \u001b[0;34m=\u001b[0m \u001b[0msmart_decode\u001b[0m\u001b[0;34m(\u001b[0m\u001b[0mself\u001b[0m\u001b[0;34m.\u001b[0m\u001b[0mstream\u001b[0m\u001b[0;34m.\u001b[0m\u001b[0mreadline\u001b[0m\u001b[0;34m(\u001b[0m\u001b[0;34m)\u001b[0m\u001b[0;34m[\u001b[0m\u001b[0;34m:\u001b[0m\u001b[0;34m-\u001b[0m\u001b[0;36m1\u001b[0m\u001b[0;34m]\u001b[0m\u001b[0;34m)\u001b[0m\u001b[0;34m\u001b[0m\u001b[0;34m\u001b[0m\u001b[0m\n\u001b[0m\u001b[1;32m   1201\u001b[0m             \u001b[0mlogger\u001b[0m\u001b[0;34m.\u001b[0m\u001b[0mdebug\u001b[0m\u001b[0;34m(\u001b[0m\u001b[0;34m\"Answer received: {0}\"\u001b[0m\u001b[0;34m.\u001b[0m\u001b[0mformat\u001b[0m\u001b[0;34m(\u001b[0m\u001b[0manswer\u001b[0m\u001b[0;34m)\u001b[0m\u001b[0;34m)\u001b[0m\u001b[0;34m\u001b[0m\u001b[0;34m\u001b[0m\u001b[0m\n\u001b[1;32m   1202\u001b[0m             \u001b[0;32mif\u001b[0m \u001b[0manswer\u001b[0m\u001b[0;34m.\u001b[0m\u001b[0mstartswith\u001b[0m\u001b[0;34m(\u001b[0m\u001b[0mproto\u001b[0m\u001b[0;34m.\u001b[0m\u001b[0mRETURN_MESSAGE\u001b[0m\u001b[0;34m)\u001b[0m\u001b[0;34m:\u001b[0m\u001b[0;34m\u001b[0m\u001b[0;34m\u001b[0m\u001b[0m\n",
      "\u001b[0;32m/usr/lib/python3.8/socket.py\u001b[0m in \u001b[0;36mreadinto\u001b[0;34m(self, b)\u001b[0m\n\u001b[1;32m    667\u001b[0m         \u001b[0;32mwhile\u001b[0m \u001b[0;32mTrue\u001b[0m\u001b[0;34m:\u001b[0m\u001b[0;34m\u001b[0m\u001b[0;34m\u001b[0m\u001b[0m\n\u001b[1;32m    668\u001b[0m             \u001b[0;32mtry\u001b[0m\u001b[0;34m:\u001b[0m\u001b[0;34m\u001b[0m\u001b[0;34m\u001b[0m\u001b[0m\n\u001b[0;32m--> 669\u001b[0;31m                 \u001b[0;32mreturn\u001b[0m \u001b[0mself\u001b[0m\u001b[0;34m.\u001b[0m\u001b[0m_sock\u001b[0m\u001b[0;34m.\u001b[0m\u001b[0mrecv_into\u001b[0m\u001b[0;34m(\u001b[0m\u001b[0mb\u001b[0m\u001b[0;34m)\u001b[0m\u001b[0;34m\u001b[0m\u001b[0;34m\u001b[0m\u001b[0m\n\u001b[0m\u001b[1;32m    670\u001b[0m             \u001b[0;32mexcept\u001b[0m \u001b[0mtimeout\u001b[0m\u001b[0;34m:\u001b[0m\u001b[0;34m\u001b[0m\u001b[0;34m\u001b[0m\u001b[0m\n\u001b[1;32m    671\u001b[0m                 \u001b[0mself\u001b[0m\u001b[0;34m.\u001b[0m\u001b[0m_timeout_occurred\u001b[0m \u001b[0;34m=\u001b[0m \u001b[0;32mTrue\u001b[0m\u001b[0;34m\u001b[0m\u001b[0;34m\u001b[0m\u001b[0m\n",
      "\u001b[0;31mKeyboardInterrupt\u001b[0m: "
     ]
    }
   ],
   "source": [
    "submissions.write.json(\"images_exist.json\")"
   ]
  },
  {
   "cell_type": "code",
   "execution_count": 22,
   "metadata": {},
   "outputs": [
    {
     "name": "stdout",
     "output_type": "stream",
     "text": [
      "+------------------------------------------------------------------------------------------------------+\n",
      "|url                                                                                                   |\n",
      "+------------------------------------------------------------------------------------------------------+\n",
      "|http://files.myopera.com/Demonstro/files/noDRM.jpg                                                    |\n",
      "|http://a803.ac-images.myspacecdn.com/images01/104/l_15ff23446023db13c0ee26664f8a6012.jpg              |\n",
      "|http://www.bruno9li.com/imagens/desenhos/desenhos/avant-19.jpg                                        |\n",
      "|http://www.notcot.com/images/Teddy-Fetal-Development.jpg                                              |\n",
      "|http://www.drawing-studio.net/drawings.php?show=9&amp;pic=chopperdrawing.jpg                          |\n",
      "|http://www.foundshit.com/images/stacked-chairs-06.jpg                                                 |\n",
      "|http://www.banksy.co.uk/shop/images/shop%20large/stopandsearch.jpg                                    |\n",
      "|http://www.nikonsmallworld.com/images/gallery2007/fullsize/Nagy-10473-1.jpg                           |\n",
      "|http://www.likecool.com/Gear/Other/Spider-Man%20Tattoo/Spider-Man-Tattoo.jpg                          |\n",
      "|http://bp0.blogger.com/_0dld9b-clRw/R6UIGe-oqgI/AAAAAAAAAo8/IbnIi2eYyRY/s1600-h/3d-cross-tattoos-2.jpg|\n",
      "+------------------------------------------------------------------------------------------------------+\n",
      "only showing top 10 rows\n",
      "\n"
     ]
    }
   ],
   "source": [
    "submissions.select([\"url\"]).show(10, False)"
   ]
  },
  {
   "cell_type": "code",
   "execution_count": 12,
   "metadata": {},
   "outputs": [
    {
     "data": {
      "text/plain": [
       "733903"
      ]
     },
     "execution_count": 12,
     "metadata": {},
     "output_type": "execute_result"
    }
   ],
   "source": [
    "submissions.count()"
   ]
  },
  {
   "cell_type": "code",
   "execution_count": 14,
   "metadata": {},
   "outputs": [],
   "source": [
    "submissions.write.json(\"images.json\")"
   ]
  },
  {
   "cell_type": "code",
   "execution_count": 12,
   "metadata": {},
   "outputs": [],
   "source": [
    "submissions = submissions.withColumn(\"image_exists\", check_image_udf(\"url\"))"
   ]
  },
  {
   "cell_type": "code",
   "execution_count": 17,
   "metadata": {},
   "outputs": [
    {
     "name": "stdout",
     "output_type": "stream",
     "text": [
      "+-----------------------------------------------------------+------------+\n",
      "|url                                                        |image_exists|\n",
      "+-----------------------------------------------------------+------------+\n",
      "|http://www.artswhore.com/                                  |null        |\n",
      "|http://www.inka-essenhigh.com/work.php?year=2005           |null        |\n",
      "|http://www.adigranov.net/                                  |null        |\n",
      "|http://www.illustrationmundo.com/                          |null        |\n",
      "|http://www.pics-nsfw.com/erotic_massage.htm                |false       |\n",
      "|http://files.myopera.com/Demonstro/files/noDRM.jpg         |true        |\n",
      "|http://picasso.csdl.tamu.edu/picasso/                      |null        |\n",
      "|http://www.msnbc.msn.com/id/23226815/                      |null        |\n",
      "|http://www.newsweek.com/id/114505                          |null        |\n",
      "|http://www.pics-nsfw.com/sara_jean_playmate_of_the_year.htm|false       |\n",
      "+-----------------------------------------------------------+------------+\n",
      "only showing top 10 rows\n",
      "\n"
     ]
    }
   ],
   "source": [
    "submissions.select([\"url\", \"image_exists\"]).show(10, False)"
   ]
  },
  {
   "cell_type": "code",
   "execution_count": 11,
   "metadata": {},
   "outputs": [],
   "source": [
    "# submissions = submissionsDF.filter(col(\"author\") != \"[deleted]\")"
   ]
  },
  {
   "cell_type": "code",
   "execution_count": 12,
   "metadata": {},
   "outputs": [],
   "source": [
    "submissions = submissions.where(check_image_udf(\"url\"))"
   ]
  },
  {
   "cell_type": "code",
   "execution_count": null,
   "metadata": {},
   "outputs": [],
   "source": [
    "submissions.show()"
   ]
  },
  {
   "cell_type": "code",
   "execution_count": 1,
   "metadata": {},
   "outputs": [],
   "source": [
    "import pandas as pd"
   ]
  },
  {
   "cell_type": "code",
   "execution_count": null,
   "metadata": {},
   "outputs": [],
   "source": [
    "df = pd.read_json(\"submission.json\", orient=\"records\", lines=True, chunksize=5)"
   ]
  },
  {
   "cell_type": "code",
   "execution_count": null,
   "metadata": {},
   "outputs": [],
   "source": [
    "df.head"
   ]
  },
  {
   "cell_type": "code",
   "execution_count": 11,
   "metadata": {},
   "outputs": [
    {
     "name": "stdout",
     "output_type": "stream",
     "text": [
      "Requirement already satisfied: zope.event in ./.local/lib/python3.8/site-packages (4.5.0)\r\n",
      "Requirement already satisfied: setuptools in /usr/lib/python3/dist-packages (from zope.event) (45.2.0)\r\n"
     ]
    }
   ],
   "source": [
    "!pip3 install zope.event"
   ]
  },
  {
   "cell_type": "code",
   "execution_count": 3,
   "metadata": {},
   "outputs": [
    {
     "name": "stdout",
     "output_type": "stream",
     "text": [
      "Collecting jsonlines\n",
      "  Downloading jsonlines-1.2.0-py2.py3-none-any.whl (7.6 kB)\n",
      "Requirement already satisfied: six in /usr/lib/python3/dist-packages (from jsonlines) (1.14.0)\n",
      "Installing collected packages: jsonlines\n",
      "Successfully installed jsonlines-1.2.0\n"
     ]
    }
   ],
   "source": [
    "!pip3 install jsonlines"
   ]
  },
  {
   "cell_type": "code",
   "execution_count": 1,
   "metadata": {},
   "outputs": [
    {
     "name": "stdout",
     "output_type": "stream",
     "text": [
      "Collecting grequests\n",
      "  Downloading grequests-0.6.0-py3-none-any.whl (5.2 kB)\n",
      "Collecting gevent\n",
      "  Downloading gevent-20.9.0-cp38-cp38-manylinux2010_x86_64.whl (6.1 MB)\n",
      "\u001b[K     |████████████████████████████████| 6.1 MB 10.5 MB/s eta 0:00:01\n",
      "\u001b[?25hRequirement already satisfied: requests in /usr/lib/python3/dist-packages (from grequests) (2.22.0)\n",
      "Requirement already satisfied: setuptools in /usr/lib/python3/dist-packages (from gevent->grequests) (45.2.0)\n",
      "Collecting zope.event\n",
      "  Downloading zope.event-4.5.0-py2.py3-none-any.whl (6.8 kB)\n",
      "Collecting greenlet>=0.4.17; platform_python_implementation == \"CPython\"\n",
      "  Downloading greenlet-0.4.17-cp38-cp38-manylinux1_x86_64.whl (48 kB)\n",
      "\u001b[K     |████████████████████████████████| 48 kB 16.3 MB/s eta 0:00:01\n",
      "\u001b[?25hRequirement already satisfied: zope.interface in /usr/lib/python3/dist-packages (from gevent->grequests) (4.7.1)\n",
      "Installing collected packages: zope.event, greenlet, gevent, grequests\n",
      "Successfully installed gevent-20.9.0 greenlet-0.4.17 grequests-0.6.0 zope.event-4.5.0\n"
     ]
    }
   ],
   "source": [
    "!pip3 install grequests"
   ]
  },
  {
   "cell_type": "code",
   "execution_count": null,
   "metadata": {},
   "outputs": [],
   "source": [
    "import jsonlines"
   ]
  },
  {
   "cell_type": "code",
   "execution_count": null,
   "metadata": {},
   "outputs": [],
   "source": [
    "import grequests"
   ]
  },
  {
   "cell_type": "code",
   "execution_count": null,
   "metadata": {},
   "outputs": [],
   "source": [
    "from itertools import chain, islice"
   ]
  },
  {
   "cell_type": "code",
   "execution_count": null,
   "metadata": {},
   "outputs": [],
   "source": [
    "def sub_gen():\n",
    "    with jsonlines.open('submission.json') as reader:\n",
    "        for obj in reader:\n",
    "            yield obj"
   ]
  },
  {
   "cell_type": "code",
   "execution_count": null,
   "metadata": {},
   "outputs": [],
   "source": [
    "def chunks(iterable, size=10):\n",
    "    iterator = iter(iterable)\n",
    "    for first in iterator:\n",
    "        yield chain([first], islice(iterator, size - 1))"
   ]
  },
  {
   "cell_type": "code",
   "execution_count": 23,
   "metadata": {},
   "outputs": [
    {
     "name": "stderr",
     "output_type": "stream",
     "text": [
      "\n",
      "  0%|          | 0/1373590 [00:00<?, ?it/s]\u001b[A\n",
      "  0%|          | 1672/1373590 [00:00<01:22, 16715.39it/s]\u001b[A\n",
      "  0%|          | 3225/1373590 [00:00<01:23, 16338.41it/s]\u001b[A\n",
      "  0%|          | 4526/1373590 [00:00<01:30, 15169.33it/s]\u001b[A\n",
      "  0%|          | 5882/1373590 [00:00<01:33, 14645.40it/s]\u001b[A\n",
      "  1%|          | 7418/1373590 [00:00<01:31, 14850.30it/s]\u001b[A\n",
      "  1%|          | 8866/1373590 [00:00<01:32, 14716.57it/s]\u001b[A\n",
      "  1%|          | 8866/1373590 [00:18<01:32, 14716.57it/s]\u001b[ATraceback (most recent call last):\n",
      "  File \"src/gevent/greenlet.py\", line 854, in gevent._gevent_cgreenlet.Greenlet.run\n",
      "  File \"/home/stathis/.local/lib/python3.8/site-packages/grequests.py\", line 74, in send\n",
      "    self.response = self.session.request(self.method,\n",
      "  File \"/usr/lib/python3/dist-packages/requests/sessions.py\", line 533, in request\n",
      "    resp = self.send(prep, **send_kwargs)\n",
      "  File \"/usr/lib/python3/dist-packages/requests/sessions.py\", line 668, in send\n",
      "    history = [resp for resp in gen] if allow_redirects else []\n",
      "  File \"/usr/lib/python3/dist-packages/requests/sessions.py\", line 668, in <listcomp>\n",
      "    history = [resp for resp in gen] if allow_redirects else []\n",
      "  File \"/usr/lib/python3/dist-packages/requests/sessions.py\", line 239, in resolve_redirects\n",
      "    resp = self.send(\n",
      "  File \"/usr/lib/python3/dist-packages/requests/sessions.py\", line 646, in send\n",
      "    r = adapter.send(request, **kwargs)\n",
      "  File \"/usr/lib/python3/dist-packages/requests/adapters.py\", line 439, in send\n",
      "    resp = conn.urlopen(\n",
      "  File \"/usr/lib/python3/dist-packages/urllib3/connectionpool.py\", line 665, in urlopen\n",
      "    httplib_response = self._make_request(\n",
      "  File \"/usr/lib/python3/dist-packages/urllib3/connectionpool.py\", line 421, in _make_request\n",
      "    six.raise_from(e, None)\n",
      "  File \"<string>\", line 3, in raise_from\n",
      "  File \"/usr/lib/python3/dist-packages/urllib3/connectionpool.py\", line 416, in _make_request\n",
      "    httplib_response = conn.getresponse()\n",
      "  File \"/usr/lib/python3.8/http/client.py\", line 1347, in getresponse\n",
      "    response.begin()\n",
      "  File \"/usr/lib/python3.8/http/client.py\", line 307, in begin\n",
      "    version, status, reason = self._read_status()\n",
      "  File \"/usr/lib/python3.8/http/client.py\", line 268, in _read_status\n",
      "    line = str(self.fp.readline(_MAXLINE + 1), \"iso-8859-1\")\n",
      "  File \"/usr/lib/python3.8/socket.py\", line 669, in readinto\n",
      "    return self._sock.recv_into(b)\n",
      "  File \"/usr/lib/python3/dist-packages/urllib3/contrib/pyopenssl.py\", line 325, in recv_into\n",
      "    if not util.wait_for_read(self.socket, self.socket.gettimeout()):\n",
      "  File \"/usr/lib/python3/dist-packages/urllib3/util/wait.py\", line 146, in wait_for_read\n",
      "    return wait_for_socket(sock, read=True, timeout=timeout)\n",
      "  File \"/usr/lib/python3/dist-packages/urllib3/util/wait.py\", line 107, in poll_wait_for_socket\n",
      "    return bool(_retry_on_intr(do_poll, timeout))\n",
      "  File \"/usr/lib/python3/dist-packages/urllib3/util/wait.py\", line 43, in _retry_on_intr\n",
      "    return fn(timeout)\n",
      "  File \"/usr/lib/python3/dist-packages/urllib3/util/wait.py\", line 105, in do_poll\n",
      "    return poll_obj.poll(t)\n",
      "KeyboardInterrupt\n",
      "2020-11-29T13:10:08Z <Greenlet at 0x7fc497e179d0: <bound method AsyncRequest.send of <grequests.AsyncRequest object at 0x7fc464c26100>>(stream=False)> failed with KeyboardInterrupt\n",
      "\n",
      "  1%|          | 9999/1373590 [02:01<4:35:18, 82.55it/s] \n"
     ]
    },
    {
     "ename": "KeyboardInterrupt",
     "evalue": "",
     "output_type": "error",
     "traceback": [
      "\u001b[0;31m---------------------------------------------------------------------------\u001b[0m",
      "\u001b[0;31mKeyboardInterrupt\u001b[0m                         Traceback (most recent call last)",
      "\u001b[0;32m<ipython-input-23-c19eb3d6b553>\u001b[0m in \u001b[0;36m<module>\u001b[0;34m\u001b[0m\n\u001b[1;32m      8\u001b[0m         \u001b[0mids\u001b[0m \u001b[0;34m=\u001b[0m \u001b[0;34m(\u001b[0m\u001b[0msub\u001b[0m\u001b[0;34m.\u001b[0m\u001b[0mget\u001b[0m\u001b[0;34m(\u001b[0m\u001b[0;34m\"id\"\u001b[0m\u001b[0;34m)\u001b[0m \u001b[0;32mfor\u001b[0m \u001b[0msub\u001b[0m \u001b[0;32min\u001b[0m \u001b[0mbatch\u001b[0m\u001b[0;34m)\u001b[0m\u001b[0;34m\u001b[0m\u001b[0;34m\u001b[0m\u001b[0m\n\u001b[1;32m      9\u001b[0m         \u001b[0mrs\u001b[0m \u001b[0;34m=\u001b[0m \u001b[0;34m(\u001b[0m\u001b[0mgrequests\u001b[0m\u001b[0;34m.\u001b[0m\u001b[0mget\u001b[0m\u001b[0;34m(\u001b[0m\u001b[0msub\u001b[0m\u001b[0;34m.\u001b[0m\u001b[0mget\u001b[0m\u001b[0;34m(\u001b[0m\u001b[0;34m\"url\"\u001b[0m\u001b[0;34m)\u001b[0m\u001b[0;34m,\u001b[0m  \u001b[0mtimeout\u001b[0m\u001b[0;34m=\u001b[0m\u001b[0;36m5\u001b[0m\u001b[0;34m,\u001b[0m \u001b[0mstream\u001b[0m\u001b[0;34m=\u001b[0m\u001b[0;32mFalse\u001b[0m\u001b[0;34m)\u001b[0m \u001b[0;32mfor\u001b[0m \u001b[0msub\u001b[0m \u001b[0;32min\u001b[0m \u001b[0mbatch\u001b[0m\u001b[0;34m)\u001b[0m\u001b[0;34m\u001b[0m\u001b[0;34m\u001b[0m\u001b[0m\n\u001b[0;32m---> 10\u001b[0;31m         \u001b[0mrequests\u001b[0m \u001b[0;34m=\u001b[0m \u001b[0mgrequests\u001b[0m\u001b[0;34m.\u001b[0m\u001b[0mmap\u001b[0m\u001b[0;34m(\u001b[0m\u001b[0mrs\u001b[0m\u001b[0;34m)\u001b[0m\u001b[0;34m\u001b[0m\u001b[0;34m\u001b[0m\u001b[0m\n\u001b[0m\u001b[1;32m     11\u001b[0m         \u001b[0mresults\u001b[0m \u001b[0;34m=\u001b[0m \u001b[0mzip\u001b[0m\u001b[0;34m(\u001b[0m\u001b[0mids\u001b[0m\u001b[0;34m,\u001b[0m \u001b[0mrequests\u001b[0m\u001b[0;34m)\u001b[0m\u001b[0;34m\u001b[0m\u001b[0;34m\u001b[0m\u001b[0m\n\u001b[1;32m     12\u001b[0m         \u001b[0;32mfor\u001b[0m \u001b[0mid\u001b[0m\u001b[0;34m,\u001b[0m \u001b[0mr\u001b[0m \u001b[0;32min\u001b[0m \u001b[0mresults\u001b[0m\u001b[0;34m:\u001b[0m\u001b[0;34m\u001b[0m\u001b[0;34m\u001b[0m\u001b[0m\n",
      "\u001b[0;32m~/.local/lib/python3.8/site-packages/grequests.py\u001b[0m in \u001b[0;36mmap\u001b[0;34m(requests, stream, size, exception_handler, gtimeout)\u001b[0m\n\u001b[1;32m    123\u001b[0m     \u001b[0mpool\u001b[0m \u001b[0;34m=\u001b[0m \u001b[0mPool\u001b[0m\u001b[0;34m(\u001b[0m\u001b[0msize\u001b[0m\u001b[0;34m)\u001b[0m \u001b[0;32mif\u001b[0m \u001b[0msize\u001b[0m \u001b[0;32melse\u001b[0m \u001b[0;32mNone\u001b[0m\u001b[0;34m\u001b[0m\u001b[0;34m\u001b[0m\u001b[0m\n\u001b[1;32m    124\u001b[0m     \u001b[0mjobs\u001b[0m \u001b[0;34m=\u001b[0m \u001b[0;34m[\u001b[0m\u001b[0msend\u001b[0m\u001b[0;34m(\u001b[0m\u001b[0mr\u001b[0m\u001b[0;34m,\u001b[0m \u001b[0mpool\u001b[0m\u001b[0;34m,\u001b[0m \u001b[0mstream\u001b[0m\u001b[0;34m=\u001b[0m\u001b[0mstream\u001b[0m\u001b[0;34m)\u001b[0m \u001b[0;32mfor\u001b[0m \u001b[0mr\u001b[0m \u001b[0;32min\u001b[0m \u001b[0mrequests\u001b[0m\u001b[0;34m]\u001b[0m\u001b[0;34m\u001b[0m\u001b[0;34m\u001b[0m\u001b[0m\n\u001b[0;32m--> 125\u001b[0;31m     \u001b[0mgevent\u001b[0m\u001b[0;34m.\u001b[0m\u001b[0mjoinall\u001b[0m\u001b[0;34m(\u001b[0m\u001b[0mjobs\u001b[0m\u001b[0;34m,\u001b[0m \u001b[0mtimeout\u001b[0m\u001b[0;34m=\u001b[0m\u001b[0mgtimeout\u001b[0m\u001b[0;34m)\u001b[0m\u001b[0;34m\u001b[0m\u001b[0;34m\u001b[0m\u001b[0m\n\u001b[0m\u001b[1;32m    126\u001b[0m \u001b[0;34m\u001b[0m\u001b[0m\n\u001b[1;32m    127\u001b[0m     \u001b[0mret\u001b[0m \u001b[0;34m=\u001b[0m \u001b[0;34m[\u001b[0m\u001b[0;34m]\u001b[0m\u001b[0;34m\u001b[0m\u001b[0;34m\u001b[0m\u001b[0m\n",
      "\u001b[0;32m~/.local/lib/python3.8/site-packages/gevent/_gevent_cgreenlet.cpython-38-x86_64-linux-gnu.so\u001b[0m in \u001b[0;36mgevent._gevent_cgreenlet.joinall\u001b[0;34m()\u001b[0m\n",
      "\u001b[0;32m~/.local/lib/python3.8/site-packages/gevent/_gevent_cgreenlet.cpython-38-x86_64-linux-gnu.so\u001b[0m in \u001b[0;36mgevent._gevent_cgreenlet.joinall\u001b[0;34m()\u001b[0m\n",
      "\u001b[0;32m~/.local/lib/python3.8/site-packages/gevent/_gevent_c_hub_primitives.cpython-38-x86_64-linux-gnu.so\u001b[0m in \u001b[0;36mgevent._gevent_c_hub_primitives.wait_on_objects\u001b[0;34m()\u001b[0m\n",
      "\u001b[0;32m~/.local/lib/python3.8/site-packages/gevent/_gevent_c_hub_primitives.cpython-38-x86_64-linux-gnu.so\u001b[0m in \u001b[0;36mgevent._gevent_c_hub_primitives.wait_on_objects\u001b[0;34m()\u001b[0m\n",
      "\u001b[0;32m~/.local/lib/python3.8/site-packages/gevent/_gevent_c_hub_primitives.cpython-38-x86_64-linux-gnu.so\u001b[0m in \u001b[0;36mgevent._gevent_c_hub_primitives._WaitIterator.__next__\u001b[0;34m()\u001b[0m\n",
      "\u001b[0;32m~/.local/lib/python3.8/site-packages/gevent/_gevent_c_hub_primitives.cpython-38-x86_64-linux-gnu.so\u001b[0m in \u001b[0;36mgevent._gevent_c_hub_primitives._WaitIterator.__next__\u001b[0;34m()\u001b[0m\n",
      "\u001b[0;32m~/.local/lib/python3.8/site-packages/gevent/_gevent_c_waiter.cpython-38-x86_64-linux-gnu.so\u001b[0m in \u001b[0;36mgevent._gevent_c_waiter.MultipleWaiter.get\u001b[0;34m()\u001b[0m\n",
      "\u001b[0;32m~/.local/lib/python3.8/site-packages/gevent/_gevent_c_waiter.cpython-38-x86_64-linux-gnu.so\u001b[0m in \u001b[0;36mgevent._gevent_c_waiter.Waiter.get\u001b[0;34m()\u001b[0m\n",
      "\u001b[0;32m~/.local/lib/python3.8/site-packages/gevent/_gevent_c_greenlet_primitives.cpython-38-x86_64-linux-gnu.so\u001b[0m in \u001b[0;36mgevent._gevent_c_greenlet_primitives.SwitchOutGreenletWithLoop.switch\u001b[0;34m()\u001b[0m\n",
      "\u001b[0;32m~/.local/lib/python3.8/site-packages/gevent/_gevent_c_greenlet_primitives.cpython-38-x86_64-linux-gnu.so\u001b[0m in \u001b[0;36mgevent._gevent_c_greenlet_primitives.SwitchOutGreenletWithLoop.switch\u001b[0;34m()\u001b[0m\n",
      "\u001b[0;32m~/.local/lib/python3.8/site-packages/gevent/_gevent_c_greenlet_primitives.cpython-38-x86_64-linux-gnu.so\u001b[0m in \u001b[0;36mgevent._gevent_c_greenlet_primitives.SwitchOutGreenletWithLoop.switch\u001b[0;34m()\u001b[0m\n",
      "\u001b[0;32msrc/gevent/_gevent_c_greenlet_primitives.pxd\u001b[0m in \u001b[0;36mgevent._gevent_c_greenlet_primitives._greenlet_switch\u001b[0;34m()\u001b[0m\n",
      "\u001b[0;32m~/.local/lib/python3.8/site-packages/gevent/_gevent_cgreenlet.cpython-38-x86_64-linux-gnu.so\u001b[0m in \u001b[0;36mgevent._gevent_cgreenlet.Greenlet.run\u001b[0;34m()\u001b[0m\n",
      "\u001b[0;32m~/.local/lib/python3.8/site-packages/grequests.py\u001b[0m in \u001b[0;36msend\u001b[0;34m(self, **kwargs)\u001b[0m\n\u001b[1;32m     72\u001b[0m         \u001b[0mmerged_kwargs\u001b[0m\u001b[0;34m.\u001b[0m\u001b[0mupdate\u001b[0m\u001b[0;34m(\u001b[0m\u001b[0mkwargs\u001b[0m\u001b[0;34m)\u001b[0m\u001b[0;34m\u001b[0m\u001b[0;34m\u001b[0m\u001b[0m\n\u001b[1;32m     73\u001b[0m         \u001b[0;32mtry\u001b[0m\u001b[0;34m:\u001b[0m\u001b[0;34m\u001b[0m\u001b[0;34m\u001b[0m\u001b[0m\n\u001b[0;32m---> 74\u001b[0;31m             self.response = self.session.request(self.method,\n\u001b[0m\u001b[1;32m     75\u001b[0m                                                 self.url, **merged_kwargs)\n\u001b[1;32m     76\u001b[0m         \u001b[0;32mexcept\u001b[0m \u001b[0mException\u001b[0m \u001b[0;32mas\u001b[0m \u001b[0me\u001b[0m\u001b[0;34m:\u001b[0m\u001b[0;34m\u001b[0m\u001b[0;34m\u001b[0m\u001b[0m\n",
      "\u001b[0;32m/usr/lib/python3/dist-packages/requests/sessions.py\u001b[0m in \u001b[0;36mrequest\u001b[0;34m(self, method, url, params, data, headers, cookies, files, auth, timeout, allow_redirects, proxies, hooks, stream, verify, cert, json)\u001b[0m\n\u001b[1;32m    531\u001b[0m         }\n\u001b[1;32m    532\u001b[0m         \u001b[0msend_kwargs\u001b[0m\u001b[0;34m.\u001b[0m\u001b[0mupdate\u001b[0m\u001b[0;34m(\u001b[0m\u001b[0msettings\u001b[0m\u001b[0;34m)\u001b[0m\u001b[0;34m\u001b[0m\u001b[0;34m\u001b[0m\u001b[0m\n\u001b[0;32m--> 533\u001b[0;31m         \u001b[0mresp\u001b[0m \u001b[0;34m=\u001b[0m \u001b[0mself\u001b[0m\u001b[0;34m.\u001b[0m\u001b[0msend\u001b[0m\u001b[0;34m(\u001b[0m\u001b[0mprep\u001b[0m\u001b[0;34m,\u001b[0m \u001b[0;34m**\u001b[0m\u001b[0msend_kwargs\u001b[0m\u001b[0;34m)\u001b[0m\u001b[0;34m\u001b[0m\u001b[0;34m\u001b[0m\u001b[0m\n\u001b[0m\u001b[1;32m    534\u001b[0m \u001b[0;34m\u001b[0m\u001b[0m\n\u001b[1;32m    535\u001b[0m         \u001b[0;32mreturn\u001b[0m \u001b[0mresp\u001b[0m\u001b[0;34m\u001b[0m\u001b[0;34m\u001b[0m\u001b[0m\n",
      "\u001b[0;32m/usr/lib/python3/dist-packages/requests/sessions.py\u001b[0m in \u001b[0;36msend\u001b[0;34m(self, request, **kwargs)\u001b[0m\n\u001b[1;32m    666\u001b[0m \u001b[0;34m\u001b[0m\u001b[0m\n\u001b[1;32m    667\u001b[0m         \u001b[0;31m# Resolve redirects if allowed.\u001b[0m\u001b[0;34m\u001b[0m\u001b[0;34m\u001b[0m\u001b[0;34m\u001b[0m\u001b[0m\n\u001b[0;32m--> 668\u001b[0;31m         \u001b[0mhistory\u001b[0m \u001b[0;34m=\u001b[0m \u001b[0;34m[\u001b[0m\u001b[0mresp\u001b[0m \u001b[0;32mfor\u001b[0m \u001b[0mresp\u001b[0m \u001b[0;32min\u001b[0m \u001b[0mgen\u001b[0m\u001b[0;34m]\u001b[0m \u001b[0;32mif\u001b[0m \u001b[0mallow_redirects\u001b[0m \u001b[0;32melse\u001b[0m \u001b[0;34m[\u001b[0m\u001b[0;34m]\u001b[0m\u001b[0;34m\u001b[0m\u001b[0;34m\u001b[0m\u001b[0m\n\u001b[0m\u001b[1;32m    669\u001b[0m \u001b[0;34m\u001b[0m\u001b[0m\n\u001b[1;32m    670\u001b[0m         \u001b[0;31m# Shuffle things around if there's history.\u001b[0m\u001b[0;34m\u001b[0m\u001b[0;34m\u001b[0m\u001b[0;34m\u001b[0m\u001b[0m\n",
      "\u001b[0;32m/usr/lib/python3/dist-packages/requests/sessions.py\u001b[0m in \u001b[0;36m<listcomp>\u001b[0;34m(.0)\u001b[0m\n\u001b[1;32m    666\u001b[0m \u001b[0;34m\u001b[0m\u001b[0m\n\u001b[1;32m    667\u001b[0m         \u001b[0;31m# Resolve redirects if allowed.\u001b[0m\u001b[0;34m\u001b[0m\u001b[0;34m\u001b[0m\u001b[0;34m\u001b[0m\u001b[0m\n\u001b[0;32m--> 668\u001b[0;31m         \u001b[0mhistory\u001b[0m \u001b[0;34m=\u001b[0m \u001b[0;34m[\u001b[0m\u001b[0mresp\u001b[0m \u001b[0;32mfor\u001b[0m \u001b[0mresp\u001b[0m \u001b[0;32min\u001b[0m \u001b[0mgen\u001b[0m\u001b[0;34m]\u001b[0m \u001b[0;32mif\u001b[0m \u001b[0mallow_redirects\u001b[0m \u001b[0;32melse\u001b[0m \u001b[0;34m[\u001b[0m\u001b[0;34m]\u001b[0m\u001b[0;34m\u001b[0m\u001b[0;34m\u001b[0m\u001b[0m\n\u001b[0m\u001b[1;32m    669\u001b[0m \u001b[0;34m\u001b[0m\u001b[0m\n\u001b[1;32m    670\u001b[0m         \u001b[0;31m# Shuffle things around if there's history.\u001b[0m\u001b[0;34m\u001b[0m\u001b[0;34m\u001b[0m\u001b[0;34m\u001b[0m\u001b[0m\n",
      "\u001b[0;32m/usr/lib/python3/dist-packages/requests/sessions.py\u001b[0m in \u001b[0;36mresolve_redirects\u001b[0;34m(self, resp, req, stream, timeout, verify, cert, proxies, yield_requests, **adapter_kwargs)\u001b[0m\n\u001b[1;32m    237\u001b[0m             \u001b[0;32melse\u001b[0m\u001b[0;34m:\u001b[0m\u001b[0;34m\u001b[0m\u001b[0;34m\u001b[0m\u001b[0m\n\u001b[1;32m    238\u001b[0m \u001b[0;34m\u001b[0m\u001b[0m\n\u001b[0;32m--> 239\u001b[0;31m                 resp = self.send(\n\u001b[0m\u001b[1;32m    240\u001b[0m                     \u001b[0mreq\u001b[0m\u001b[0;34m,\u001b[0m\u001b[0;34m\u001b[0m\u001b[0;34m\u001b[0m\u001b[0m\n\u001b[1;32m    241\u001b[0m                     \u001b[0mstream\u001b[0m\u001b[0;34m=\u001b[0m\u001b[0mstream\u001b[0m\u001b[0;34m,\u001b[0m\u001b[0;34m\u001b[0m\u001b[0;34m\u001b[0m\u001b[0m\n",
      "\u001b[0;32m/usr/lib/python3/dist-packages/requests/sessions.py\u001b[0m in \u001b[0;36msend\u001b[0;34m(self, request, **kwargs)\u001b[0m\n\u001b[1;32m    644\u001b[0m \u001b[0;34m\u001b[0m\u001b[0m\n\u001b[1;32m    645\u001b[0m         \u001b[0;31m# Send the request\u001b[0m\u001b[0;34m\u001b[0m\u001b[0;34m\u001b[0m\u001b[0;34m\u001b[0m\u001b[0m\n\u001b[0;32m--> 646\u001b[0;31m         \u001b[0mr\u001b[0m \u001b[0;34m=\u001b[0m \u001b[0madapter\u001b[0m\u001b[0;34m.\u001b[0m\u001b[0msend\u001b[0m\u001b[0;34m(\u001b[0m\u001b[0mrequest\u001b[0m\u001b[0;34m,\u001b[0m \u001b[0;34m**\u001b[0m\u001b[0mkwargs\u001b[0m\u001b[0;34m)\u001b[0m\u001b[0;34m\u001b[0m\u001b[0;34m\u001b[0m\u001b[0m\n\u001b[0m\u001b[1;32m    647\u001b[0m \u001b[0;34m\u001b[0m\u001b[0m\n\u001b[1;32m    648\u001b[0m         \u001b[0;31m# Total elapsed time of the request (approximately)\u001b[0m\u001b[0;34m\u001b[0m\u001b[0;34m\u001b[0m\u001b[0;34m\u001b[0m\u001b[0m\n",
      "\u001b[0;32m/usr/lib/python3/dist-packages/requests/adapters.py\u001b[0m in \u001b[0;36msend\u001b[0;34m(self, request, stream, timeout, verify, cert, proxies)\u001b[0m\n\u001b[1;32m    437\u001b[0m         \u001b[0;32mtry\u001b[0m\u001b[0;34m:\u001b[0m\u001b[0;34m\u001b[0m\u001b[0;34m\u001b[0m\u001b[0m\n\u001b[1;32m    438\u001b[0m             \u001b[0;32mif\u001b[0m \u001b[0;32mnot\u001b[0m \u001b[0mchunked\u001b[0m\u001b[0;34m:\u001b[0m\u001b[0;34m\u001b[0m\u001b[0;34m\u001b[0m\u001b[0m\n\u001b[0;32m--> 439\u001b[0;31m                 resp = conn.urlopen(\n\u001b[0m\u001b[1;32m    440\u001b[0m                     \u001b[0mmethod\u001b[0m\u001b[0;34m=\u001b[0m\u001b[0mrequest\u001b[0m\u001b[0;34m.\u001b[0m\u001b[0mmethod\u001b[0m\u001b[0;34m,\u001b[0m\u001b[0;34m\u001b[0m\u001b[0;34m\u001b[0m\u001b[0m\n\u001b[1;32m    441\u001b[0m                     \u001b[0murl\u001b[0m\u001b[0;34m=\u001b[0m\u001b[0murl\u001b[0m\u001b[0;34m,\u001b[0m\u001b[0;34m\u001b[0m\u001b[0;34m\u001b[0m\u001b[0m\n",
      "\u001b[0;32m/usr/lib/python3/dist-packages/urllib3/connectionpool.py\u001b[0m in \u001b[0;36murlopen\u001b[0;34m(self, method, url, body, headers, retries, redirect, assert_same_host, timeout, pool_timeout, release_conn, chunked, body_pos, **response_kw)\u001b[0m\n\u001b[1;32m    663\u001b[0m \u001b[0;34m\u001b[0m\u001b[0m\n\u001b[1;32m    664\u001b[0m             \u001b[0;31m# Make the request on the httplib connection object.\u001b[0m\u001b[0;34m\u001b[0m\u001b[0;34m\u001b[0m\u001b[0;34m\u001b[0m\u001b[0m\n\u001b[0;32m--> 665\u001b[0;31m             httplib_response = self._make_request(\n\u001b[0m\u001b[1;32m    666\u001b[0m                 \u001b[0mconn\u001b[0m\u001b[0;34m,\u001b[0m\u001b[0;34m\u001b[0m\u001b[0;34m\u001b[0m\u001b[0m\n\u001b[1;32m    667\u001b[0m                 \u001b[0mmethod\u001b[0m\u001b[0;34m,\u001b[0m\u001b[0;34m\u001b[0m\u001b[0;34m\u001b[0m\u001b[0m\n",
      "\u001b[0;32m/usr/lib/python3/dist-packages/urllib3/connectionpool.py\u001b[0m in \u001b[0;36m_make_request\u001b[0;34m(self, conn, method, url, timeout, chunked, **httplib_request_kw)\u001b[0m\n\u001b[1;32m    419\u001b[0m                     \u001b[0;31m# Python 3 (including for exceptions like SystemExit).\u001b[0m\u001b[0;34m\u001b[0m\u001b[0;34m\u001b[0m\u001b[0;34m\u001b[0m\u001b[0m\n\u001b[1;32m    420\u001b[0m                     \u001b[0;31m# Otherwise it looks like a bug in the code.\u001b[0m\u001b[0;34m\u001b[0m\u001b[0;34m\u001b[0m\u001b[0;34m\u001b[0m\u001b[0m\n\u001b[0;32m--> 421\u001b[0;31m                     \u001b[0msix\u001b[0m\u001b[0;34m.\u001b[0m\u001b[0mraise_from\u001b[0m\u001b[0;34m(\u001b[0m\u001b[0me\u001b[0m\u001b[0;34m,\u001b[0m \u001b[0;32mNone\u001b[0m\u001b[0;34m)\u001b[0m\u001b[0;34m\u001b[0m\u001b[0;34m\u001b[0m\u001b[0m\n\u001b[0m\u001b[1;32m    422\u001b[0m         \u001b[0;32mexcept\u001b[0m \u001b[0;34m(\u001b[0m\u001b[0mSocketTimeout\u001b[0m\u001b[0;34m,\u001b[0m \u001b[0mBaseSSLError\u001b[0m\u001b[0;34m,\u001b[0m \u001b[0mSocketError\u001b[0m\u001b[0;34m)\u001b[0m \u001b[0;32mas\u001b[0m \u001b[0me\u001b[0m\u001b[0;34m:\u001b[0m\u001b[0;34m\u001b[0m\u001b[0;34m\u001b[0m\u001b[0m\n\u001b[1;32m    423\u001b[0m             \u001b[0mself\u001b[0m\u001b[0;34m.\u001b[0m\u001b[0m_raise_timeout\u001b[0m\u001b[0;34m(\u001b[0m\u001b[0merr\u001b[0m\u001b[0;34m=\u001b[0m\u001b[0me\u001b[0m\u001b[0;34m,\u001b[0m \u001b[0murl\u001b[0m\u001b[0;34m=\u001b[0m\u001b[0murl\u001b[0m\u001b[0;34m,\u001b[0m \u001b[0mtimeout_value\u001b[0m\u001b[0;34m=\u001b[0m\u001b[0mread_timeout\u001b[0m\u001b[0;34m)\u001b[0m\u001b[0;34m\u001b[0m\u001b[0;34m\u001b[0m\u001b[0m\n",
      "\u001b[0;32m/usr/lib/python3/dist-packages/six.py\u001b[0m in \u001b[0;36mraise_from\u001b[0;34m(value, from_value)\u001b[0m\n",
      "\u001b[0;32m/usr/lib/python3/dist-packages/urllib3/connectionpool.py\u001b[0m in \u001b[0;36m_make_request\u001b[0;34m(self, conn, method, url, timeout, chunked, **httplib_request_kw)\u001b[0m\n\u001b[1;32m    414\u001b[0m                 \u001b[0;31m# Python 3\u001b[0m\u001b[0;34m\u001b[0m\u001b[0;34m\u001b[0m\u001b[0;34m\u001b[0m\u001b[0m\n\u001b[1;32m    415\u001b[0m                 \u001b[0;32mtry\u001b[0m\u001b[0;34m:\u001b[0m\u001b[0;34m\u001b[0m\u001b[0;34m\u001b[0m\u001b[0m\n\u001b[0;32m--> 416\u001b[0;31m                     \u001b[0mhttplib_response\u001b[0m \u001b[0;34m=\u001b[0m \u001b[0mconn\u001b[0m\u001b[0;34m.\u001b[0m\u001b[0mgetresponse\u001b[0m\u001b[0;34m(\u001b[0m\u001b[0;34m)\u001b[0m\u001b[0;34m\u001b[0m\u001b[0;34m\u001b[0m\u001b[0m\n\u001b[0m\u001b[1;32m    417\u001b[0m                 \u001b[0;32mexcept\u001b[0m \u001b[0mBaseException\u001b[0m \u001b[0;32mas\u001b[0m \u001b[0me\u001b[0m\u001b[0;34m:\u001b[0m\u001b[0;34m\u001b[0m\u001b[0;34m\u001b[0m\u001b[0m\n\u001b[1;32m    418\u001b[0m                     \u001b[0;31m# Remove the TypeError from the exception chain in\u001b[0m\u001b[0;34m\u001b[0m\u001b[0;34m\u001b[0m\u001b[0;34m\u001b[0m\u001b[0m\n",
      "\u001b[0;32m/usr/lib/python3.8/http/client.py\u001b[0m in \u001b[0;36mgetresponse\u001b[0;34m(self)\u001b[0m\n\u001b[1;32m   1345\u001b[0m         \u001b[0;32mtry\u001b[0m\u001b[0;34m:\u001b[0m\u001b[0;34m\u001b[0m\u001b[0;34m\u001b[0m\u001b[0m\n\u001b[1;32m   1346\u001b[0m             \u001b[0;32mtry\u001b[0m\u001b[0;34m:\u001b[0m\u001b[0;34m\u001b[0m\u001b[0;34m\u001b[0m\u001b[0m\n\u001b[0;32m-> 1347\u001b[0;31m                 \u001b[0mresponse\u001b[0m\u001b[0;34m.\u001b[0m\u001b[0mbegin\u001b[0m\u001b[0;34m(\u001b[0m\u001b[0;34m)\u001b[0m\u001b[0;34m\u001b[0m\u001b[0;34m\u001b[0m\u001b[0m\n\u001b[0m\u001b[1;32m   1348\u001b[0m             \u001b[0;32mexcept\u001b[0m \u001b[0mConnectionError\u001b[0m\u001b[0;34m:\u001b[0m\u001b[0;34m\u001b[0m\u001b[0;34m\u001b[0m\u001b[0m\n\u001b[1;32m   1349\u001b[0m                 \u001b[0mself\u001b[0m\u001b[0;34m.\u001b[0m\u001b[0mclose\u001b[0m\u001b[0;34m(\u001b[0m\u001b[0;34m)\u001b[0m\u001b[0;34m\u001b[0m\u001b[0;34m\u001b[0m\u001b[0m\n",
      "\u001b[0;32m/usr/lib/python3.8/http/client.py\u001b[0m in \u001b[0;36mbegin\u001b[0;34m(self)\u001b[0m\n\u001b[1;32m    305\u001b[0m         \u001b[0;31m# read until we get a non-100 response\u001b[0m\u001b[0;34m\u001b[0m\u001b[0;34m\u001b[0m\u001b[0;34m\u001b[0m\u001b[0m\n\u001b[1;32m    306\u001b[0m         \u001b[0;32mwhile\u001b[0m \u001b[0;32mTrue\u001b[0m\u001b[0;34m:\u001b[0m\u001b[0;34m\u001b[0m\u001b[0;34m\u001b[0m\u001b[0m\n\u001b[0;32m--> 307\u001b[0;31m             \u001b[0mversion\u001b[0m\u001b[0;34m,\u001b[0m \u001b[0mstatus\u001b[0m\u001b[0;34m,\u001b[0m \u001b[0mreason\u001b[0m \u001b[0;34m=\u001b[0m \u001b[0mself\u001b[0m\u001b[0;34m.\u001b[0m\u001b[0m_read_status\u001b[0m\u001b[0;34m(\u001b[0m\u001b[0;34m)\u001b[0m\u001b[0;34m\u001b[0m\u001b[0;34m\u001b[0m\u001b[0m\n\u001b[0m\u001b[1;32m    308\u001b[0m             \u001b[0;32mif\u001b[0m \u001b[0mstatus\u001b[0m \u001b[0;34m!=\u001b[0m \u001b[0mCONTINUE\u001b[0m\u001b[0;34m:\u001b[0m\u001b[0;34m\u001b[0m\u001b[0;34m\u001b[0m\u001b[0m\n\u001b[1;32m    309\u001b[0m                 \u001b[0;32mbreak\u001b[0m\u001b[0;34m\u001b[0m\u001b[0;34m\u001b[0m\u001b[0m\n",
      "\u001b[0;32m/usr/lib/python3.8/http/client.py\u001b[0m in \u001b[0;36m_read_status\u001b[0;34m(self)\u001b[0m\n\u001b[1;32m    266\u001b[0m \u001b[0;34m\u001b[0m\u001b[0m\n\u001b[1;32m    267\u001b[0m     \u001b[0;32mdef\u001b[0m \u001b[0m_read_status\u001b[0m\u001b[0;34m(\u001b[0m\u001b[0mself\u001b[0m\u001b[0;34m)\u001b[0m\u001b[0;34m:\u001b[0m\u001b[0;34m\u001b[0m\u001b[0;34m\u001b[0m\u001b[0m\n\u001b[0;32m--> 268\u001b[0;31m         \u001b[0mline\u001b[0m \u001b[0;34m=\u001b[0m \u001b[0mstr\u001b[0m\u001b[0;34m(\u001b[0m\u001b[0mself\u001b[0m\u001b[0;34m.\u001b[0m\u001b[0mfp\u001b[0m\u001b[0;34m.\u001b[0m\u001b[0mreadline\u001b[0m\u001b[0;34m(\u001b[0m\u001b[0m_MAXLINE\u001b[0m \u001b[0;34m+\u001b[0m \u001b[0;36m1\u001b[0m\u001b[0;34m)\u001b[0m\u001b[0;34m,\u001b[0m \u001b[0;34m\"iso-8859-1\"\u001b[0m\u001b[0;34m)\u001b[0m\u001b[0;34m\u001b[0m\u001b[0;34m\u001b[0m\u001b[0m\n\u001b[0m\u001b[1;32m    269\u001b[0m         \u001b[0;32mif\u001b[0m \u001b[0mlen\u001b[0m\u001b[0;34m(\u001b[0m\u001b[0mline\u001b[0m\u001b[0;34m)\u001b[0m \u001b[0;34m>\u001b[0m \u001b[0m_MAXLINE\u001b[0m\u001b[0;34m:\u001b[0m\u001b[0;34m\u001b[0m\u001b[0;34m\u001b[0m\u001b[0m\n\u001b[1;32m    270\u001b[0m             \u001b[0;32mraise\u001b[0m \u001b[0mLineTooLong\u001b[0m\u001b[0;34m(\u001b[0m\u001b[0;34m\"status line\"\u001b[0m\u001b[0;34m)\u001b[0m\u001b[0;34m\u001b[0m\u001b[0;34m\u001b[0m\u001b[0m\n",
      "\u001b[0;32m/usr/lib/python3.8/socket.py\u001b[0m in \u001b[0;36mreadinto\u001b[0;34m(self, b)\u001b[0m\n\u001b[1;32m    667\u001b[0m         \u001b[0;32mwhile\u001b[0m \u001b[0;32mTrue\u001b[0m\u001b[0;34m:\u001b[0m\u001b[0;34m\u001b[0m\u001b[0;34m\u001b[0m\u001b[0m\n\u001b[1;32m    668\u001b[0m             \u001b[0;32mtry\u001b[0m\u001b[0;34m:\u001b[0m\u001b[0;34m\u001b[0m\u001b[0;34m\u001b[0m\u001b[0m\n\u001b[0;32m--> 669\u001b[0;31m                 \u001b[0;32mreturn\u001b[0m \u001b[0mself\u001b[0m\u001b[0;34m.\u001b[0m\u001b[0m_sock\u001b[0m\u001b[0;34m.\u001b[0m\u001b[0mrecv_into\u001b[0m\u001b[0;34m(\u001b[0m\u001b[0mb\u001b[0m\u001b[0;34m)\u001b[0m\u001b[0;34m\u001b[0m\u001b[0;34m\u001b[0m\u001b[0m\n\u001b[0m\u001b[1;32m    670\u001b[0m             \u001b[0;32mexcept\u001b[0m \u001b[0mtimeout\u001b[0m\u001b[0;34m:\u001b[0m\u001b[0;34m\u001b[0m\u001b[0;34m\u001b[0m\u001b[0m\n\u001b[1;32m    671\u001b[0m                 \u001b[0mself\u001b[0m\u001b[0;34m.\u001b[0m\u001b[0m_timeout_occurred\u001b[0m \u001b[0;34m=\u001b[0m \u001b[0;32mTrue\u001b[0m\u001b[0;34m\u001b[0m\u001b[0;34m\u001b[0m\u001b[0m\n",
      "\u001b[0;32m/usr/lib/python3/dist-packages/urllib3/contrib/pyopenssl.py\u001b[0m in \u001b[0;36mrecv_into\u001b[0;34m(self, *args, **kwargs)\u001b[0m\n\u001b[1;32m    323\u001b[0m                 \u001b[0;32mraise\u001b[0m\u001b[0;34m\u001b[0m\u001b[0;34m\u001b[0m\u001b[0m\n\u001b[1;32m    324\u001b[0m         \u001b[0;32mexcept\u001b[0m \u001b[0mOpenSSL\u001b[0m\u001b[0;34m.\u001b[0m\u001b[0mSSL\u001b[0m\u001b[0;34m.\u001b[0m\u001b[0mWantReadError\u001b[0m\u001b[0;34m:\u001b[0m\u001b[0;34m\u001b[0m\u001b[0;34m\u001b[0m\u001b[0m\n\u001b[0;32m--> 325\u001b[0;31m             \u001b[0;32mif\u001b[0m \u001b[0;32mnot\u001b[0m \u001b[0mutil\u001b[0m\u001b[0;34m.\u001b[0m\u001b[0mwait_for_read\u001b[0m\u001b[0;34m(\u001b[0m\u001b[0mself\u001b[0m\u001b[0;34m.\u001b[0m\u001b[0msocket\u001b[0m\u001b[0;34m,\u001b[0m \u001b[0mself\u001b[0m\u001b[0;34m.\u001b[0m\u001b[0msocket\u001b[0m\u001b[0;34m.\u001b[0m\u001b[0mgettimeout\u001b[0m\u001b[0;34m(\u001b[0m\u001b[0;34m)\u001b[0m\u001b[0;34m)\u001b[0m\u001b[0;34m:\u001b[0m\u001b[0;34m\u001b[0m\u001b[0;34m\u001b[0m\u001b[0m\n\u001b[0m\u001b[1;32m    326\u001b[0m                 \u001b[0;32mraise\u001b[0m \u001b[0mtimeout\u001b[0m\u001b[0;34m(\u001b[0m\u001b[0;34m\"The read operation timed out\"\u001b[0m\u001b[0;34m)\u001b[0m\u001b[0;34m\u001b[0m\u001b[0;34m\u001b[0m\u001b[0m\n\u001b[1;32m    327\u001b[0m             \u001b[0;32melse\u001b[0m\u001b[0;34m:\u001b[0m\u001b[0;34m\u001b[0m\u001b[0;34m\u001b[0m\u001b[0m\n",
      "\u001b[0;32m/usr/lib/python3/dist-packages/urllib3/util/wait.py\u001b[0m in \u001b[0;36mwait_for_read\u001b[0;34m(sock, timeout)\u001b[0m\n\u001b[1;32m    144\u001b[0m     \u001b[0mReturns\u001b[0m \u001b[0;32mTrue\u001b[0m \u001b[0;32mif\u001b[0m \u001b[0mthe\u001b[0m \u001b[0msocket\u001b[0m \u001b[0;32mis\u001b[0m \u001b[0mreadable\u001b[0m\u001b[0;34m,\u001b[0m \u001b[0;32mor\u001b[0m \u001b[0;32mFalse\u001b[0m \u001b[0;32mif\u001b[0m \u001b[0mthe\u001b[0m \u001b[0mtimeout\u001b[0m \u001b[0mexpired\u001b[0m\u001b[0;34m.\u001b[0m\u001b[0;34m\u001b[0m\u001b[0;34m\u001b[0m\u001b[0m\n\u001b[1;32m    145\u001b[0m     \"\"\"\n\u001b[0;32m--> 146\u001b[0;31m     \u001b[0;32mreturn\u001b[0m \u001b[0mwait_for_socket\u001b[0m\u001b[0;34m(\u001b[0m\u001b[0msock\u001b[0m\u001b[0;34m,\u001b[0m \u001b[0mread\u001b[0m\u001b[0;34m=\u001b[0m\u001b[0;32mTrue\u001b[0m\u001b[0;34m,\u001b[0m \u001b[0mtimeout\u001b[0m\u001b[0;34m=\u001b[0m\u001b[0mtimeout\u001b[0m\u001b[0;34m)\u001b[0m\u001b[0;34m\u001b[0m\u001b[0;34m\u001b[0m\u001b[0m\n\u001b[0m\u001b[1;32m    147\u001b[0m \u001b[0;34m\u001b[0m\u001b[0m\n\u001b[1;32m    148\u001b[0m \u001b[0;34m\u001b[0m\u001b[0m\n",
      "\u001b[0;32m/usr/lib/python3/dist-packages/urllib3/util/wait.py\u001b[0m in \u001b[0;36mpoll_wait_for_socket\u001b[0;34m(sock, read, write, timeout)\u001b[0m\n\u001b[1;32m    105\u001b[0m         \u001b[0;32mreturn\u001b[0m \u001b[0mpoll_obj\u001b[0m\u001b[0;34m.\u001b[0m\u001b[0mpoll\u001b[0m\u001b[0;34m(\u001b[0m\u001b[0mt\u001b[0m\u001b[0;34m)\u001b[0m\u001b[0;34m\u001b[0m\u001b[0;34m\u001b[0m\u001b[0m\n\u001b[1;32m    106\u001b[0m \u001b[0;34m\u001b[0m\u001b[0m\n\u001b[0;32m--> 107\u001b[0;31m     \u001b[0;32mreturn\u001b[0m \u001b[0mbool\u001b[0m\u001b[0;34m(\u001b[0m\u001b[0m_retry_on_intr\u001b[0m\u001b[0;34m(\u001b[0m\u001b[0mdo_poll\u001b[0m\u001b[0;34m,\u001b[0m \u001b[0mtimeout\u001b[0m\u001b[0;34m)\u001b[0m\u001b[0;34m)\u001b[0m\u001b[0;34m\u001b[0m\u001b[0;34m\u001b[0m\u001b[0m\n\u001b[0m\u001b[1;32m    108\u001b[0m \u001b[0;34m\u001b[0m\u001b[0m\n\u001b[1;32m    109\u001b[0m \u001b[0;34m\u001b[0m\u001b[0m\n",
      "\u001b[0;32m/usr/lib/python3/dist-packages/urllib3/util/wait.py\u001b[0m in \u001b[0;36m_retry_on_intr\u001b[0;34m(fn, timeout)\u001b[0m\n\u001b[1;32m     41\u001b[0m     \u001b[0;31m# Modern Python, that retries syscalls by default\u001b[0m\u001b[0;34m\u001b[0m\u001b[0;34m\u001b[0m\u001b[0;34m\u001b[0m\u001b[0m\n\u001b[1;32m     42\u001b[0m     \u001b[0;32mdef\u001b[0m \u001b[0m_retry_on_intr\u001b[0m\u001b[0;34m(\u001b[0m\u001b[0mfn\u001b[0m\u001b[0;34m,\u001b[0m \u001b[0mtimeout\u001b[0m\u001b[0;34m)\u001b[0m\u001b[0;34m:\u001b[0m\u001b[0;34m\u001b[0m\u001b[0;34m\u001b[0m\u001b[0m\n\u001b[0;32m---> 43\u001b[0;31m         \u001b[0;32mreturn\u001b[0m \u001b[0mfn\u001b[0m\u001b[0;34m(\u001b[0m\u001b[0mtimeout\u001b[0m\u001b[0;34m)\u001b[0m\u001b[0;34m\u001b[0m\u001b[0;34m\u001b[0m\u001b[0m\n\u001b[0m\u001b[1;32m     44\u001b[0m \u001b[0;34m\u001b[0m\u001b[0m\n\u001b[1;32m     45\u001b[0m \u001b[0;34m\u001b[0m\u001b[0m\n",
      "\u001b[0;32m/usr/lib/python3/dist-packages/urllib3/util/wait.py\u001b[0m in \u001b[0;36mdo_poll\u001b[0;34m(t)\u001b[0m\n\u001b[1;32m    103\u001b[0m         \u001b[0;32mif\u001b[0m \u001b[0mt\u001b[0m \u001b[0;32mis\u001b[0m \u001b[0;32mnot\u001b[0m \u001b[0;32mNone\u001b[0m\u001b[0;34m:\u001b[0m\u001b[0;34m\u001b[0m\u001b[0;34m\u001b[0m\u001b[0m\n\u001b[1;32m    104\u001b[0m             \u001b[0mt\u001b[0m \u001b[0;34m*=\u001b[0m \u001b[0;36m1000\u001b[0m\u001b[0;34m\u001b[0m\u001b[0;34m\u001b[0m\u001b[0m\n\u001b[0;32m--> 105\u001b[0;31m         \u001b[0;32mreturn\u001b[0m \u001b[0mpoll_obj\u001b[0m\u001b[0;34m.\u001b[0m\u001b[0mpoll\u001b[0m\u001b[0;34m(\u001b[0m\u001b[0mt\u001b[0m\u001b[0;34m)\u001b[0m\u001b[0;34m\u001b[0m\u001b[0;34m\u001b[0m\u001b[0m\n\u001b[0m\u001b[1;32m    106\u001b[0m \u001b[0;34m\u001b[0m\u001b[0m\n\u001b[1;32m    107\u001b[0m     \u001b[0;32mreturn\u001b[0m \u001b[0mbool\u001b[0m\u001b[0;34m(\u001b[0m\u001b[0m_retry_on_intr\u001b[0m\u001b[0;34m(\u001b[0m\u001b[0mdo_poll\u001b[0m\u001b[0;34m,\u001b[0m \u001b[0mtimeout\u001b[0m\u001b[0;34m)\u001b[0m\u001b[0;34m)\u001b[0m\u001b[0;34m\u001b[0m\u001b[0;34m\u001b[0m\u001b[0m\n",
      "\u001b[0;31mKeyboardInterrupt\u001b[0m: "
     ]
    }
   ],
   "source": [
    "import time\n",
    "from tqdm import tqdm\n",
    "\n",
    "data =  tqdm(sub_gen(), total=1373590)\n",
    "\n",
    "with jsonlines.open(\"images.json\", mode='w') as writer:\n",
    "    for batch in chunks(data, 10000):\n",
    "        ids = (sub.get(\"id\") for sub in batch)\n",
    "        rs = (requests.get(sub.get(\"url\"), timeout=5) for sub in batch)\n",
    "        requests = grequests.map(rs)\n",
    "        results = zip(ids, requests)\n",
    "        for id, r in results:\n",
    "            if r.status_code == 200:\n",
    "                r.raw.decode_content = True\n",
    "                writer.write({\"id\": id, \"raw\": r})\n",
    "            response.close()\n",
    "    "
   ]
  },
  {
   "cell_type": "code",
   "execution_count": null,
   "metadata": {},
   "outputs": [],
   "source": []
  },
  {
   "cell_type": "code",
   "execution_count": 36,
   "metadata": {},
   "outputs": [],
   "source": [
    "from pyspark.sql.types import StringType, ArrayType, FloatType\n"
   ]
  },
  {
   "cell_type": "code",
   "execution_count": 37,
   "metadata": {},
   "outputs": [],
   "source": [
    "emot_schema = StructType()\\\n",
    "    .add(\"id\", StringType(), True)\\\n",
    "    .add(\"emotion_vec\", ArrayType(FloatType()), True)"
   ]
  },
  {
   "cell_type": "code",
   "execution_count": 38,
   "metadata": {},
   "outputs": [],
   "source": [
    "emotions = spark.read.schema(emot_schema).json(\"comment_emotions.json\")"
   ]
  },
  {
   "cell_type": "code",
   "execution_count": 39,
   "metadata": {},
   "outputs": [
    {
     "name": "stdout",
     "output_type": "stream",
     "text": [
      "+-------+--------------------+\n",
      "|     id|         emotion_vec|\n",
      "+-------+--------------------+\n",
      "|c03furo|[0.0497812, 0.152...|\n",
      "|c03h794|[0.023478767, 0.2...|\n",
      "|c03hd6h|[0.4753953, 7.780...|\n",
      "|c03hjzh|[0.4188293, 9.928...|\n",
      "|c03hkdv|[0.0057698945, 0....|\n",
      "|c03ij9g|[0.0905313, 0.094...|\n",
      "|c03imvr|[0.12965919, 0.02...|\n",
      "|c03iu7e|[0.56050825, 0.00...|\n",
      "|c03iw7i|[0.016138373, 0.0...|\n",
      "|c03izrd|[0.75507784, 5.70...|\n",
      "|c03izs2|[0.070797615, 4.2...|\n",
      "|c03j9w2|[0.54097486, 6.23...|\n",
      "|c03jkuj|[0.73603946, 0.01...|\n",
      "|c03jmlt|[0.115270786, 0.0...|\n",
      "|c03jmqe|[0.076493636, 0.1...|\n",
      "|c03jmwz|[0.021115225, 7.8...|\n",
      "|c03jn0q|[0.20216453, 0.01...|\n",
      "|c03jn3v|[0.2870943, 0.004...|\n",
      "|c03jnaa|[0.14683734, 2.49...|\n",
      "|c03jnab|[0.21548876, 0.00...|\n",
      "+-------+--------------------+\n",
      "only showing top 20 rows\n",
      "\n"
     ]
    }
   ],
   "source": [
    "emotions.show()"
   ]
  },
  {
   "cell_type": "code",
   "execution_count": 46,
   "metadata": {},
   "outputs": [],
   "source": [
    "# import numpy as np\n",
    "\n",
    "def threshold(emotion_vec, t=0.5):\n",
    "    return max(emotion_vec) > t\n",
    "    \n",
    "threshold_udf = udf(lambda z: threshold(z), BooleanType())"
   ]
  },
  {
   "cell_type": "code",
   "execution_count": 49,
   "metadata": {},
   "outputs": [],
   "source": [
    "emotions = emotions.filter(threshold_udf(\"emotion_vec\"))"
   ]
  },
  {
   "cell_type": "code",
   "execution_count": 50,
   "metadata": {},
   "outputs": [
    {
     "name": "stdout",
     "output_type": "stream",
     "text": [
      "+-------+--------------------+------+\n",
      "|     id|         emotion_vec|over_t|\n",
      "+-------+--------------------+------+\n",
      "|c03hd6h|[0.4753953, 7.780...|  true|\n",
      "|c03hjzh|[0.4188293, 9.928...|  true|\n",
      "|c03hkdv|[0.0057698945, 0....|  true|\n",
      "|c03ij9g|[0.0905313, 0.094...|  true|\n",
      "|c03imvr|[0.12965919, 0.02...|  true|\n",
      "|c03iu7e|[0.56050825, 0.00...|  true|\n",
      "|c03iw7i|[0.016138373, 0.0...|  true|\n",
      "|c03izrd|[0.75507784, 5.70...|  true|\n",
      "|c03izs2|[0.070797615, 4.2...|  true|\n",
      "|c03j9w2|[0.54097486, 6.23...|  true|\n",
      "|c03jkuj|[0.73603946, 0.01...|  true|\n",
      "|c03jmlt|[0.115270786, 0.0...|  true|\n",
      "|c03jmwz|[0.021115225, 7.8...|  true|\n",
      "|c03jn0q|[0.20216453, 0.01...|  true|\n",
      "|c03jnaa|[0.14683734, 2.49...|  true|\n",
      "|c03jnab|[0.21548876, 0.00...|  true|\n",
      "|c03jnxv|[0.14211048, 0.00...|  true|\n",
      "|c03jo21|[0.016262192, 0.0...|  true|\n",
      "|c03jo2d|[0.06832139, 6.54...|  true|\n",
      "|c03joac|[0.1989255, 0.010...|  true|\n",
      "+-------+--------------------+------+\n",
      "only showing top 20 rows\n",
      "\n"
     ]
    }
   ],
   "source": [
    "emotions.show()"
   ]
  },
  {
   "cell_type": "code",
   "execution_count": 51,
   "metadata": {},
   "outputs": [
    {
     "data": {
      "text/plain": [
       "960708"
      ]
     },
     "execution_count": 51,
     "metadata": {},
     "output_type": "execute_result"
    }
   ],
   "source": [
    "emotions.count()"
   ]
  },
  {
   "cell_type": "code",
   "execution_count": 52,
   "metadata": {},
   "outputs": [],
   "source": [
    "comments_with_emotions = df3.join(emotions, emotions.id == df3.id , \"inner\")"
   ]
  },
  {
   "cell_type": "code",
   "execution_count": 53,
   "metadata": {},
   "outputs": [
    {
     "name": "stdout",
     "output_type": "stream",
     "text": [
      "+-------+--------------+--------+---------+--------------------+---------+-----------+-----+-------+--------------------+------+\n",
      "|     id|        author| link_id|parent_id|                body|subreddit|created_utc|score|     id|         emotion_vec|over_t|\n",
      "+-------+--------------+--------+---------+--------------------+---------+-----------+-----+-------+--------------------+------+\n",
      "|c06b0op|       xenmate|t3_7co9l| t3_7co9l|I met the guy who...|      Art| 1226428250|    4|c06b0op|[0.17572966, 0.00...|  true|\n",
      "|c06lz2b|  netzwerkerin|t3_7go7v| t3_7go7v|Beautiful. I espe...|      Art| 1228165923|    1|c06lz2b|[0.91883814, 0.00...|  true|\n",
      "|c06s7vo| davy_crockett|t3_7ivhe| t3_7ivhe|         Beautiful.\n",
      "|      Art| 1229050460|    2|c06s7vo|[0.7037442, 2.713...|  true|\n",
      "|c06tug5|       McCourt|t3_7jd0m| t3_7jd0m|I made some art o...|      Art| 1229313173|    1|c06tug5|[0.090898536, 0.0...|  true|\n",
      "|c06u6gf|    toastspork|t3_7jmxf| t3_7jmxf|Yeah, but does he...|      Art| 1229368496|    2|c06u6gf|[0.02243575, 5.28...|  true|\n",
      "|c074dvj|    Melvillian|t3_7qm9u| t3_7qm9u|Try this link. Hi...|      Art| 1232310177|    3|c074dvj|[0.026266761, 2.7...|  true|\n",
      "|c07qet1|      rpfinn22|t3_7xg66| t3_7xg66|Love this. Check ...|      Art| 1234930875|    1|c07qet1|[0.252638, 0.0032...|  true|\n",
      "|c0836gi|     [deleted]|t3_82tgs| t3_82tgs|Reminds me of a Y...|      Art| 1236435336|    1|c0836gi|[0.38610616, 0.00...|  true|\n",
      "|c096c5t|     Bermsalot|t3_8g70d| t3_8g70d|Try not to read t...|      Art| 1240942206|    2|c096c5t|[0.09273123, 0.07...|  true|\n",
      "|c0b4ohs|    patrokluts|t3_8ycal| t3_8ycal|Site of an antiqu...|      Art| 1247748805|    1|c0b4ohs|[0.054733675, 3.2...|  true|\n",
      "|c0bfhh8|scientologist2|t3_94ou4| t3_94ou4|Original artist s...|      Art| 1248665057|    1|c0bfhh8|[0.15152267, 0.00...|  true|\n",
      "|c0byc5f|    big_cheese|t3_99ye5| t3_99ye5|Brilliant! Google...|      Art| 1250096463|    8|c0byc5f|[0.76250756, 8.01...|  true|\n",
      "|c0c6924|      shnubert|t3_9buyh| t3_9buyh|so you want a who...|      Art| 1250634856|    0|c0c6924|[0.012539169, 0.1...|  true|\n",
      "|c0d0u83|        Eamesy|t3_9jjne| t3_9jjne|Disturbed but com...|      Art| 1252683426|    2|c0d0u83|[0.7117354, 0.005...|  true|\n",
      "|c0d1mjw|       danlowe|t3_9jobu| t3_9jobu|          very nice.|      Art| 1252716613|    2|c0d1mjw|[0.5840113, 1.618...|  true|\n",
      "|c0eea31|    EricsOzone|t3_9tq4o| t3_9tq4o|           Anything.|      Art| 1255473835|    1|c0eea31|[0.18787092, 4.08...|  true|\n",
      "|c0f71gr|     [deleted]|t3_9z3on| t3_9z3on|Umm, perhaps they...|      Art| 1257063455|    1|c0f71gr|[0.10689629, 0.00...|  true|\n",
      "|c0gcuup|        jkaska|t3_a8h4w| t3_a8h4w|Rotting flesh of ...|      Art| 1259329316|    3|c0gcuup|[0.01557942, 0.06...|  true|\n",
      "|c0h0bp7|     redchesus|t3_adahn| t3_adahn|HAH! about 3 of t...|      Art| 1260481426|    1|c0h0bp7|[0.6505513, 0.008...|  true|\n",
      "|c0ivx83|     [deleted]|t3_aqiqx| t3_aqiqx|I think I just go...|      Art| 1263698310|    1|c0ivx83|[0.053987913, 0.0...|  true|\n",
      "+-------+--------------+--------+---------+--------------------+---------+-----------+-----+-------+--------------------+------+\n",
      "only showing top 20 rows\n",
      "\n"
     ]
    }
   ],
   "source": [
    "comments_with_emotions.show()"
   ]
  },
  {
   "cell_type": "code",
   "execution_count": 54,
   "metadata": {},
   "outputs": [
    {
     "ename": "TypeError",
     "evalue": "filter() missing 1 required positional argument: 'condition'",
     "output_type": "error",
     "traceback": [
      "\u001b[0;31m---------------------------------------------------------------------------\u001b[0m",
      "\u001b[0;31mTypeError\u001b[0m                                 Traceback (most recent call last)",
      "\u001b[0;32m<ipython-input-54-7a85fc0bc36e>\u001b[0m in \u001b[0;36m<module>\u001b[0;34m\u001b[0m\n\u001b[0;32m----> 1\u001b[0;31m \u001b[0mcomments_with_emotions\u001b[0m\u001b[0;34m.\u001b[0m\u001b[0mfilter\u001b[0m\u001b[0;34m(\u001b[0m\u001b[0;34m)\u001b[0m\u001b[0;34m\u001b[0m\u001b[0;34m\u001b[0m\u001b[0m\n\u001b[0m",
      "\u001b[0;31mTypeError\u001b[0m: filter() missing 1 required positional argument: 'condition'"
     ]
    }
   ],
   "source": [
    "# comments_with_emotions.filter()"
   ]
  },
  {
   "cell_type": "code",
   "execution_count": 55,
   "metadata": {},
   "outputs": [],
   "source": [
    "from pyspark.sql.functions import  collect_list, struct"
   ]
  },
  {
   "cell_type": "code",
   "execution_count": null,
   "metadata": {},
   "outputs": [],
   "source": []
  },
  {
   "cell_type": "code",
   "execution_count": 56,
   "metadata": {},
   "outputs": [],
   "source": [
    "sub_emotions = comments_with_emotions.groupby(\"link_id\").agg(collect_list(struct(\"emotion_vec\", \"score\" )).alias('emotion_vectors'))"
   ]
  },
  {
   "cell_type": "code",
   "execution_count": 57,
   "metadata": {},
   "outputs": [
    {
     "name": "stdout",
     "output_type": "stream",
     "text": [
      "+---------+--------------------+\n",
      "|  link_id|     emotion_vectors|\n",
      "+---------+--------------------+\n",
      "|t3_102aax|[[[0.083767965, 0...|\n",
      "|t3_10gub6|[[[0.3919034, 0.0...|\n",
      "|t3_10qhd2|[[[0.020172872, 4...|\n",
      "|t3_10ty9j|[[[0.0675569, 2.6...|\n",
      "|t3_10y64t|[[[0.027583351, 0...|\n",
      "|t3_111zxi|[[[0.9299609, 0.0...|\n",
      "|t3_11230w|[[[0.77947307, 9....|\n",
      "|t3_11are5|[[[0.010591315, 0...|\n",
      "|t3_11odq4|[[[0.1371927, 0.0...|\n",
      "|t3_1218z6|[[[0.010698277, 0...|\n",
      "|t3_128d69|[[[0.010603078, 0...|\n",
      "|t3_12j87i|[[[0.21066576, 6....|\n",
      "|t3_12rxlk|[[[0.89184487, 5....|\n",
      "|t3_132oct|[[[0.028816408, 0...|\n",
      "|t3_13o6su|[[[0.6286757, 0.0...|\n",
      "|t3_13s2ce|[[[0.6388502, 7.9...|\n",
      "|t3_145iy8|[[[0.004785503, 0...|\n",
      "|t3_154oac|[[[0.25290874, 0....|\n",
      "|t3_15srbd|[[[0.016758537, 0...|\n",
      "|t3_1673vf|[[[0.7542311, 0.0...|\n",
      "+---------+--------------------+\n",
      "only showing top 20 rows\n",
      "\n"
     ]
    }
   ],
   "source": [
    "sub_emotions.show()"
   ]
  },
  {
   "cell_type": "code",
   "execution_count": 58,
   "metadata": {},
   "outputs": [],
   "source": [
    "from pyspark.sql.functions import col, udf, lit, concat, lower"
   ]
  },
  {
   "cell_type": "code",
   "execution_count": 59,
   "metadata": {},
   "outputs": [],
   "source": [
    "import numpy as np\n",
    "import logging \n",
    "\n",
    "from pyspark.sql.types import StringType, ArrayType\n",
    "\n",
    "def aggregate_emotions(emotions):\n",
    "    weights = np.asarray([w for vec, w in emotions if int(w) > 0]).astype(np.float32)\n",
    "    vectors = np.asarray([vec for vec, w in emotions if int(w) > 0]).astype(np.float32)\n",
    "    try: \n",
    "        return np.average(vectors, weights=weights, axis=0).tolist()\n",
    "    except ZeroDivisionError:\n",
    "        return 0\n",
    "    \n",
    "aggregate_emotions_udf = udf(lambda z: aggregate_emotions(z), ArrayType(FloatType()))"
   ]
  },
  {
   "cell_type": "code",
   "execution_count": 60,
   "metadata": {},
   "outputs": [],
   "source": [
    "aggregated_sub_emotions = sub_emotions.withColumn(\"aggregated_emotion\", aggregate_emotions_udf(\"emotion_vectors\"))"
   ]
  },
  {
   "cell_type": "code",
   "execution_count": 61,
   "metadata": {},
   "outputs": [
    {
     "name": "stdout",
     "output_type": "stream",
     "text": [
      "+---------+--------------------+--------------------+\n",
      "|  link_id|     emotion_vectors|  aggregated_emotion|\n",
      "+---------+--------------------+--------------------+\n",
      "|t3_102aax|[[[0.083767965, 0...|[0.083767965, 0.0...|\n",
      "|t3_10gub6|[[[0.3919034, 0.0...|[0.20777953, 0.01...|\n",
      "|t3_10qhd2|[[[0.020172872, 4...|[0.5544765, 0.001...|\n",
      "|t3_10ty9j|[[[0.0675569, 2.6...|[0.07209065, 2.81...|\n",
      "|t3_10y64t|[[[0.027583351, 0...|[0.027583351, 0.0...|\n",
      "|t3_111zxi|[[[0.9299609, 0.0...|[0.6057731, 0.005...|\n",
      "|t3_11230w|[[[0.77947307, 9....|[0.77947307, 9.28...|\n",
      "|t3_11are5|[[[0.010591315, 0...|[0.29680663, 0.01...|\n",
      "|t3_11odq4|[[[0.1371927, 0.0...|[0.1371927, 0.003...|\n",
      "|t3_1218z6|[[[0.010698277, 0...|[0.010698277, 0.0...|\n",
      "|t3_128d69|[[[0.010603078, 0...|[0.010603078, 0.0...|\n",
      "|t3_12j87i|[[[0.21066576, 6....|[0.21066576, 6.93...|\n",
      "|t3_12rxlk|[[[0.89184487, 5....|[0.89184487, 5.70...|\n",
      "|t3_132oct|[[[0.028816408, 0...|[0.016773887, 0.0...|\n",
      "|t3_13o6su|[[[0.6286757, 0.0...|[0.6286757, 0.001...|\n",
      "|t3_13s2ce|[[[0.6388502, 7.9...|[0.22095838, 0.00...|\n",
      "|t3_145iy8|[[[0.004785503, 0...|[0.004785503, 0.0...|\n",
      "|t3_154oac|[[[0.25290874, 0....|[0.25290874, 0.00...|\n",
      "|t3_15srbd|[[[0.016758537, 0...|[0.20582816, 0.02...|\n",
      "|t3_1673vf|[[[0.7542311, 0.0...|[0.41704285, 0.00...|\n",
      "+---------+--------------------+--------------------+\n",
      "only showing top 20 rows\n",
      "\n"
     ]
    }
   ],
   "source": [
    "aggregated_sub_emotions.show()"
   ]
  },
  {
   "cell_type": "code",
   "execution_count": 62,
   "metadata": {},
   "outputs": [],
   "source": [
    "final = aggregated_sub_emotions.select(\"link_id\", \"aggregated_emotion\")"
   ]
  },
  {
   "cell_type": "code",
   "execution_count": 64,
   "metadata": {},
   "outputs": [
    {
     "data": {
      "text/plain": [
       "267497"
      ]
     },
     "execution_count": 64,
     "metadata": {},
     "output_type": "execute_result"
    }
   ],
   "source": [
    "final.count()"
   ]
  },
  {
   "cell_type": "code",
   "execution_count": 63,
   "metadata": {},
   "outputs": [],
   "source": [
    "final.repartition(1).write.json(\"submission_emotions_t_0.5\")"
   ]
  },
  {
   "cell_type": "code",
   "execution_count": null,
   "metadata": {},
   "outputs": [],
   "source": []
  },
  {
   "cell_type": "code",
   "execution_count": 33,
   "metadata": {},
   "outputs": [],
   "source": [
    "sub_emot_schema = StructType()\\\n",
    "    .add(\"link_id\", StringType(), True)\\\n",
    "    .add(\"aggregated_emotion\", ArrayType(FloatType()), True)"
   ]
  },
  {
   "cell_type": "code",
   "execution_count": 34,
   "metadata": {},
   "outputs": [],
   "source": [
    "sub_emotions = spark.read.schema(sub_emot_schema).json(\"submission_emotions.json\")"
   ]
  },
  {
   "cell_type": "code",
   "execution_count": 35,
   "metadata": {},
   "outputs": [
    {
     "name": "stdout",
     "output_type": "stream",
     "text": [
      "+---------+--------------------+\n",
      "|  link_id|  aggregated_emotion|\n",
      "+---------+--------------------+\n",
      "|t3_102aax|[0.17384443, 0.02...|\n",
      "|t3_10gub6|[0.20777953, 0.01...|\n",
      "|t3_10qhd2|[0.5098521, 0.005...|\n",
      "|t3_10ty9j|[0.07209065, 2.81...|\n",
      "|t3_10y64t|[0.027583351, 0.0...|\n",
      "|t3_111zxi|[0.24036725, 0.13...|\n",
      "|t3_11230w|[0.63590133, 0.00...|\n",
      "|t3_11are5|[0.29680663, 0.01...|\n",
      "|t3_11odq4|[0.1371927, 0.003...|\n",
      "|t3_1218z6|[0.010698277, 0.0...|\n",
      "|t3_121age|[0.03815273, 0.04...|\n",
      "|t3_128d69|[0.010603078, 0.0...|\n",
      "|t3_12j87i|[0.21066576, 6.93...|\n",
      "|t3_12ru2t|[0.25520676, 0.00...|\n",
      "|t3_12rxlk|[0.89184487, 5.70...|\n",
      "|t3_132oct|[0.049937755, 0.0...|\n",
      "|t3_136902|[0.4657143, 0.005...|\n",
      "|t3_13o6su|[0.6286757, 0.001...|\n",
      "|t3_13s2ce|[0.22349279, 0.01...|\n",
      "|t3_145iy8|[0.01888282, 0.02...|\n",
      "+---------+--------------------+\n",
      "only showing top 20 rows\n",
      "\n"
     ]
    }
   ],
   "source": [
    "sub_emotions.show()"
   ]
  },
  {
   "cell_type": "code",
   "execution_count": 36,
   "metadata": {},
   "outputs": [
    {
     "data": {
      "text/plain": [
       "423504"
      ]
     },
     "execution_count": 36,
     "metadata": {},
     "output_type": "execute_result"
    }
   ],
   "source": [
    "sub_emotions.count()"
   ]
  },
  {
   "cell_type": "code",
   "execution_count": 43,
   "metadata": {},
   "outputs": [],
   "source": [
    "sub_emotions = sub_emotions.join(submissions, sub_emotions.link_id == submissions.t3_id , \"inner\")"
   ]
  },
  {
   "cell_type": "code",
   "execution_count": 44,
   "metadata": {},
   "outputs": [
    {
     "name": "stdout",
     "output_type": "stream",
     "text": [
      "+---------+--------------------+------+--------------------+--------------------+----------------+-----+---------+-----------+---------+\n",
      "|  link_id|  aggregated_emotion|    id|               title|                 url|          author|score|subreddit|created_utc|    t3_id|\n",
      "+---------+--------------------+------+--------------------+--------------------+----------------+-----+---------+-----------+---------+\n",
      "|t3_102aax|[0.17384443, 0.02...|102aax|Untitled, varying...|http://imgur.com/...|     mobocrat707|    1|      Art| 1347941446|t3_102aax|\n",
      "|t3_10gub6|[0.20777953, 0.01...|10gub6|\"Ambient Love\" Wh...|http://imgur.com/...|            Du7s|   27|      Art| 1348603615|t3_10gub6|\n",
      "|t3_10qhd2|[0.5098521, 0.005...|10qhd2|r/art, I need you...|http://i.imgur.co...|TitusAndroidicus|   10|      Art| 1349050699|t3_10qhd2|\n",
      "|t3_10ty9j|[0.07209065, 2.81...|10ty9j|Hey guys, where c...|http://www.reddit...|       [deleted]|    2|      Art| 1349205777|t3_10ty9j|\n",
      "|t3_10y64t|[0.027583351, 0.0...|10y64t|Bubbles, 22x28\", ...|http://meganquist...|    djpattiecake|   19|      Art| 1349375601|t3_10y64t|\n",
      "|t3_111zxi|[0.24036725, 0.13...|111zxi|       Piece of art.|http://i.imgur.co...|         AoutivD|    1|      Art| 1349553661|t3_111zxi|\n",
      "|t3_11230w|[0.63590133, 0.00...|11230w| Dragon's Eye Cavern|http://imgur.com/...|        HVDprops|    4|      Art| 1349557093|t3_11230w|\n",
      "|t3_11are5|[0.29680663, 0.01...|11are5|You Can't Hide Th...|http://imgur.com/...|         chearte|    2|      Art| 1349938083|t3_11are5|\n",
      "|t3_11odq4|[0.1371927, 0.003...|11odq4|Huggable Monstros...|http://www.hugstr...|       [deleted]|    2|      Art| 1350539785|t3_11odq4|\n",
      "|t3_1218z6|[0.010698277, 0.0...|1218z6|First attempt in ...|http://www.imgur....|         Nothate|    0|      Art| 1351120701|t3_1218z6|\n",
      "|t3_121age|[0.03815273, 0.04...|121age|My friend drew th...|http://i.imgur.co...|       [deleted]|    0|      Art| 1351122034|t3_121age|\n",
      "|t3_128d69|[0.010603078, 0.0...|128d69|\"Barack Obama\" | ...|http://blablashmo...|       [deleted]|    0|      Art| 1351452958|t3_128d69|\n",
      "|t3_12j87i|[0.21066576, 6.93...|12j87i|Check out my newe...|http://imgur.com/...|      SirBalthor|    1|      Art| 1351890707|t3_12j87i|\n",
      "|t3_12ru2t|[0.25520676, 0.00...|12ru2t|Incredible, Surre...|http://i.imgur.co...|  PurpleRainMage|   24|      Art| 1352260777|t3_12ru2t|\n",
      "|t3_12rxlk|[0.89184487, 5.70...|12rxlk|007 Painting i di...|http://www.behanc...|        Nashartz|    3|      Art| 1352262871|t3_12rxlk|\n",
      "|t3_132oct|[0.049937755, 0.0...|132oct|Is Hand Painting ...|http://www.reddit...|    katerinamirz|    2|      Art| 1352745132|t3_132oct|\n",
      "|t3_136902|[0.4657143, 0.005...|136902|Objekt-Fantom - T...|http://uploads3.w...|       [deleted]|   30|      Art| 1352881836|t3_136902|\n",
      "|t3_13o6su|[0.6286757, 0.001...|13o6su|What is your favo...|http://www.reddit...|       [deleted]|    0|      Art| 1353688228|t3_13o6su|\n",
      "|t3_13s2ce|[0.22349279, 0.01...|13s2ce|Birth, Oils on ca...|http://i.imgur.co...|           Bean0| 1130|      Art| 1353882608|t3_13s2ce|\n",
      "|t3_145iy8|[0.01888282, 0.02...|145iy8|Censorship or com...|http://blog.nj.co...|         JorgeCS|    7|      Art| 1354463536|t3_145iy8|\n",
      "+---------+--------------------+------+--------------------+--------------------+----------------+-----+---------+-----------+---------+\n",
      "only showing top 20 rows\n",
      "\n"
     ]
    }
   ],
   "source": [
    "sub_emotions.show()"
   ]
  },
  {
   "cell_type": "code",
   "execution_count": 45,
   "metadata": {},
   "outputs": [],
   "source": [
    "sub_emotions_list = sub_emotions.collect()"
   ]
  },
  {
   "cell_type": "code",
   "execution_count": 49,
   "metadata": {},
   "outputs": [
    {
     "data": {
      "text/plain": [
       "{'link_id': 't3_102aax',\n",
       " 'aggregated_emotion': [0.17384442687034607,\n",
       "  0.02685193158686161,\n",
       "  0.026561951264739037,\n",
       "  0.015882741659879684,\n",
       "  0.0549689382314682,\n",
       "  0.0005345718236640096,\n",
       "  0.040291573852300644,\n",
       "  0.006422464270144701,\n",
       "  0.6541600227355957,\n",
       "  0.00016786629566922784,\n",
       "  9.53915441641584e-05,\n",
       "  0.00014389140415005386,\n",
       "  7.41473922971636e-05],\n",
       " 'id': '102aax',\n",
       " 'title': 'Untitled, varying sizes, Spray paint on canvas. Critiques please.',\n",
       " 'url': 'http://imgur.com/a/xlVvK',\n",
       " 'author': 'mobocrat707',\n",
       " 'score': '1',\n",
       " 'subreddit': 'Art',\n",
       " 'created_utc': '1347941446',\n",
       " 't3_id': 't3_102aax'}"
      ]
     },
     "execution_count": 49,
     "metadata": {},
     "output_type": "execute_result"
    }
   ],
   "source": [
    "sub_emotions_list[0].asDict() "
   ]
  },
  {
   "cell_type": "code",
   "execution_count": null,
   "metadata": {},
   "outputs": [],
   "source": []
  }
 ],
 "metadata": {
  "kernelspec": {
   "display_name": "Python 3",
   "language": "python",
   "name": "python3"
  },
  "language_info": {
   "codemirror_mode": {
    "name": "ipython",
    "version": 3
   },
   "file_extension": ".py",
   "mimetype": "text/x-python",
   "name": "python",
   "nbconvert_exporter": "python",
   "pygments_lexer": "ipython3",
   "version": "3.8.10"
  }
 },
 "nbformat": 4,
 "nbformat_minor": 4
}
